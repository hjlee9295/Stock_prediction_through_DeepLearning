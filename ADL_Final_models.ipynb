{
  "nbformat": 4,
  "nbformat_minor": 0,
  "metadata": {
    "accelerator": "GPU",
    "colab": {
      "name": "ADL_Final_models.ipynb",
      "provenance": [],
      "machine_shape": "hm"
    },
    "kernelspec": {
      "display_name": "Python 3",
      "name": "python3"
    }
  },
  "cells": [
    {
      "cell_type": "markdown",
      "metadata": {
        "id": "8O_WwdaigklD"
      },
      "source": [
        "#About Notebook\r\n",
        "\r\n",
        "This notebook implement vanilla RNN model as a baseline for the stock price movement prediction."
      ]
    },
    {
      "cell_type": "code",
      "metadata": {
        "colab": {
          "base_uri": "https://localhost:8080/"
        },
        "id": "4SRIWTFYgsQj",
        "outputId": "6b5b7da8-804e-4106-fd55-6f97fdfcd805"
      },
      "source": [
        "import pandas as pd\r\n",
        "import numpy as np\r\n",
        "import os\r\n",
        "import datetime\r\n",
        "import tensorflow as tf\r\n",
        "from tensorflow.keras.models import *\r\n",
        "from tensorflow.keras.layers import *\r\n",
        "\r\n",
        "from google.colab import drive\r\n",
        "drive.mount('/content/drive')"
      ],
      "execution_count": 11,
      "outputs": [
        {
          "output_type": "stream",
          "text": [
            "Drive already mounted at /content/drive; to attempt to forcibly remount, call drive.mount(\"/content/drive\", force_remount=True).\n"
          ],
          "name": "stdout"
        }
      ]
    },
    {
      "cell_type": "code",
      "metadata": {
        "colab": {
          "base_uri": "https://localhost:8080/"
        },
        "id": "BAiYVovfbt1R",
        "outputId": "54d876ae-0622-4fd1-d19f-bffdf90c08cc"
      },
      "source": [
        "url = 'https://launchpad.net/~mario-mariomedina/+archive/ubuntu/talib/+files'\r\n",
        "!wget $url/libta-lib0_0.4.0-oneiric1_amd64.deb -qO libta.deb\r\n",
        "!wget $url/ta-lib0-dev_0.4.0-oneiric1_amd64.deb -qO ta.deb\r\n",
        "!dpkg -i libta.deb ta.deb\r\n",
        "!pip install ta-lib\r\n",
        "import talib"
      ],
      "execution_count": 12,
      "outputs": [
        {
          "output_type": "stream",
          "text": [
            "(Reading database ... 144891 files and directories currently installed.)\n",
            "Preparing to unpack libta.deb ...\n",
            "Unpacking libta-lib0 (0.4.0-oneiric1) over (0.4.0-oneiric1) ...\n",
            "Preparing to unpack ta.deb ...\n",
            "Unpacking ta-lib0-dev (0.4.0-oneiric1) over (0.4.0-oneiric1) ...\n",
            "Setting up libta-lib0 (0.4.0-oneiric1) ...\n",
            "Setting up ta-lib0-dev (0.4.0-oneiric1) ...\n",
            "Processing triggers for man-db (2.8.3-2ubuntu0.1) ...\n",
            "Processing triggers for libc-bin (2.27-3ubuntu1.2) ...\n",
            "/sbin/ldconfig.real: /usr/local/lib/python3.6/dist-packages/ideep4py/lib/libmkldnn.so.0 is not a symbolic link\n",
            "\n",
            "Requirement already satisfied: ta-lib in /usr/local/lib/python3.6/dist-packages (0.4.19)\n",
            "Requirement already satisfied: numpy in /usr/local/lib/python3.6/dist-packages (from ta-lib) (1.19.4)\n"
          ],
          "name": "stdout"
        }
      ]
    },
    {
      "cell_type": "markdown",
      "metadata": {
        "id": "LJKYg-Bmg9bj"
      },
      "source": [
        "## Data"
      ]
    },
    {
      "cell_type": "code",
      "metadata": {
        "colab": {
          "base_uri": "https://localhost:8080/",
          "height": 185
        },
        "id": "1WY5eYdogs7z",
        "outputId": "428c54dd-64d7-452e-80ba-888f54f9f3cc"
      },
      "source": [
        "df = pd.read_csv('/content/drive/MyDrive/ADL_Final/AAPL_tick_minute.csv', index_col = [0])\r\n",
        "df.tail()"
      ],
      "execution_count": 4,
      "outputs": [
        {
          "output_type": "error",
          "ename": "NameError",
          "evalue": "ignored",
          "traceback": [
            "\u001b[0;31m---------------------------------------------------------------------------\u001b[0m",
            "\u001b[0;31mNameError\u001b[0m                                 Traceback (most recent call last)",
            "\u001b[0;32m<ipython-input-4-15588c0b9468>\u001b[0m in \u001b[0;36m<module>\u001b[0;34m()\u001b[0m\n\u001b[0;32m----> 1\u001b[0;31m \u001b[0mdf\u001b[0m \u001b[0;34m=\u001b[0m \u001b[0mpd\u001b[0m\u001b[0;34m.\u001b[0m\u001b[0mread_csv\u001b[0m\u001b[0;34m(\u001b[0m\u001b[0;34m'/content/drive/MyDrive/ADL_Final/AAPL_tick_minute.csv'\u001b[0m\u001b[0;34m,\u001b[0m \u001b[0mindex_col\u001b[0m \u001b[0;34m=\u001b[0m \u001b[0;34m[\u001b[0m\u001b[0;36m0\u001b[0m\u001b[0;34m]\u001b[0m\u001b[0;34m)\u001b[0m\u001b[0;34m\u001b[0m\u001b[0;34m\u001b[0m\u001b[0m\n\u001b[0m\u001b[1;32m      2\u001b[0m \u001b[0mdf\u001b[0m\u001b[0;34m.\u001b[0m\u001b[0mtail\u001b[0m\u001b[0;34m(\u001b[0m\u001b[0;34m)\u001b[0m\u001b[0;34m\u001b[0m\u001b[0;34m\u001b[0m\u001b[0m\n",
            "\u001b[0;31mNameError\u001b[0m: name 'pd' is not defined"
          ]
        }
      ]
    },
    {
      "cell_type": "code",
      "metadata": {
        "colab": {
          "base_uri": "https://localhost:8080/",
          "height": 203
        },
        "id": "cz8ZWBgzacxp",
        "outputId": "2835dc91-c1e6-419b-d1ba-815b6f9acff7"
      },
      "source": [
        "df_bid = pd.read_csv('/content/drive/MyDrive/ADL_Final/AAPL.USUSD_Candlestick_1_M_BID.csv')\r\n",
        "df_ask = pd.read_csv('/content/drive/MyDrive/ADL_Final/AAPL.USUSD_Candlestick_1_M_ASK.csv')\r\n",
        "#x = Bid, y = \r\n",
        "df = df_bid.merge(df_ask, on = 'Local time', how = 'inner')\r\n",
        "df.head()"
      ],
      "execution_count": 13,
      "outputs": [
        {
          "output_type": "execute_result",
          "data": {
            "text/html": [
              "<div>\n",
              "<style scoped>\n",
              "    .dataframe tbody tr th:only-of-type {\n",
              "        vertical-align: middle;\n",
              "    }\n",
              "\n",
              "    .dataframe tbody tr th {\n",
              "        vertical-align: top;\n",
              "    }\n",
              "\n",
              "    .dataframe thead th {\n",
              "        text-align: right;\n",
              "    }\n",
              "</style>\n",
              "<table border=\"1\" class=\"dataframe\">\n",
              "  <thead>\n",
              "    <tr style=\"text-align: right;\">\n",
              "      <th></th>\n",
              "      <th>Local time</th>\n",
              "      <th>Open_x</th>\n",
              "      <th>High_x</th>\n",
              "      <th>Low_x</th>\n",
              "      <th>Close_x</th>\n",
              "      <th>Volume_x</th>\n",
              "      <th>Open_y</th>\n",
              "      <th>High_y</th>\n",
              "      <th>Low_y</th>\n",
              "      <th>Close_y</th>\n",
              "      <th>Volume_y</th>\n",
              "    </tr>\n",
              "  </thead>\n",
              "  <tbody>\n",
              "    <tr>\n",
              "      <th>0</th>\n",
              "      <td>02.01.2020 09:30:00.000 GMT-0500</td>\n",
              "      <td>296.248</td>\n",
              "      <td>296.268</td>\n",
              "      <td>295.367</td>\n",
              "      <td>295.678</td>\n",
              "      <td>0.7800</td>\n",
              "      <td>296.302</td>\n",
              "      <td>296.303</td>\n",
              "      <td>295.443</td>\n",
              "      <td>295.742</td>\n",
              "      <td>0.6639</td>\n",
              "    </tr>\n",
              "    <tr>\n",
              "      <th>1</th>\n",
              "      <td>02.01.2020 09:31:00.000 GMT-0500</td>\n",
              "      <td>295.768</td>\n",
              "      <td>295.818</td>\n",
              "      <td>295.657</td>\n",
              "      <td>295.748</td>\n",
              "      <td>0.0825</td>\n",
              "      <td>295.862</td>\n",
              "      <td>295.882</td>\n",
              "      <td>295.753</td>\n",
              "      <td>295.842</td>\n",
              "      <td>0.0808</td>\n",
              "    </tr>\n",
              "    <tr>\n",
              "      <th>2</th>\n",
              "      <td>02.01.2020 09:32:00.000 GMT-0500</td>\n",
              "      <td>295.748</td>\n",
              "      <td>295.778</td>\n",
              "      <td>295.678</td>\n",
              "      <td>295.758</td>\n",
              "      <td>0.0975</td>\n",
              "      <td>295.842</td>\n",
              "      <td>295.842</td>\n",
              "      <td>295.752</td>\n",
              "      <td>295.842</td>\n",
              "      <td>0.0806</td>\n",
              "    </tr>\n",
              "    <tr>\n",
              "      <th>3</th>\n",
              "      <td>02.01.2020 09:33:00.000 GMT-0500</td>\n",
              "      <td>295.758</td>\n",
              "      <td>295.838</td>\n",
              "      <td>295.637</td>\n",
              "      <td>295.838</td>\n",
              "      <td>0.4275</td>\n",
              "      <td>295.812</td>\n",
              "      <td>295.882</td>\n",
              "      <td>295.702</td>\n",
              "      <td>295.882</td>\n",
              "      <td>0.4231</td>\n",
              "    </tr>\n",
              "    <tr>\n",
              "      <th>4</th>\n",
              "      <td>02.01.2020 09:34:00.000 GMT-0500</td>\n",
              "      <td>295.838</td>\n",
              "      <td>296.897</td>\n",
              "      <td>295.838</td>\n",
              "      <td>296.868</td>\n",
              "      <td>1.8375</td>\n",
              "      <td>295.883</td>\n",
              "      <td>296.953</td>\n",
              "      <td>295.883</td>\n",
              "      <td>296.942</td>\n",
              "      <td>1.5123</td>\n",
              "    </tr>\n",
              "  </tbody>\n",
              "</table>\n",
              "</div>"
            ],
            "text/plain": [
              "                         Local time   Open_x  ...  Close_y  Volume_y\n",
              "0  02.01.2020 09:30:00.000 GMT-0500  296.248  ...  295.742    0.6639\n",
              "1  02.01.2020 09:31:00.000 GMT-0500  295.768  ...  295.842    0.0808\n",
              "2  02.01.2020 09:32:00.000 GMT-0500  295.748  ...  295.842    0.0806\n",
              "3  02.01.2020 09:33:00.000 GMT-0500  295.758  ...  295.882    0.4231\n",
              "4  02.01.2020 09:34:00.000 GMT-0500  295.838  ...  296.942    1.5123\n",
              "\n",
              "[5 rows x 11 columns]"
            ]
          },
          "metadata": {
            "tags": []
          },
          "execution_count": 13
        }
      ]
    },
    {
      "cell_type": "code",
      "metadata": {
        "colab": {
          "base_uri": "https://localhost:8080/",
          "height": 417
        },
        "id": "AW52vKlyapQB",
        "outputId": "eddac307-0430-4d63-f9a7-4bc86bab8dc6"
      },
      "source": [
        "df['Open'] = (df['Open_x'] + df['Open_y'])/2\r\n",
        "df['Close'] = (df['Close_x'] + df['Close_y'])/2\r\n",
        "df['High'] = (df['High_x'] + df['High_y'])/2\r\n",
        "df['Low'] = (df['Low_x'] + df['Low_y'])/2\r\n",
        "\r\n",
        "df = df.loc[:, ['Local time', 'Open', 'Close', 'High', 'Low', 'Volume_x', 'Volume_y']]\r\n",
        "df"
      ],
      "execution_count": 14,
      "outputs": [
        {
          "output_type": "execute_result",
          "data": {
            "text/html": [
              "<div>\n",
              "<style scoped>\n",
              "    .dataframe tbody tr th:only-of-type {\n",
              "        vertical-align: middle;\n",
              "    }\n",
              "\n",
              "    .dataframe tbody tr th {\n",
              "        vertical-align: top;\n",
              "    }\n",
              "\n",
              "    .dataframe thead th {\n",
              "        text-align: right;\n",
              "    }\n",
              "</style>\n",
              "<table border=\"1\" class=\"dataframe\">\n",
              "  <thead>\n",
              "    <tr style=\"text-align: right;\">\n",
              "      <th></th>\n",
              "      <th>Local time</th>\n",
              "      <th>Open</th>\n",
              "      <th>Close</th>\n",
              "      <th>High</th>\n",
              "      <th>Low</th>\n",
              "      <th>Volume_x</th>\n",
              "      <th>Volume_y</th>\n",
              "    </tr>\n",
              "  </thead>\n",
              "  <tbody>\n",
              "    <tr>\n",
              "      <th>0</th>\n",
              "      <td>02.01.2020 09:30:00.000 GMT-0500</td>\n",
              "      <td>296.2750</td>\n",
              "      <td>295.710</td>\n",
              "      <td>296.2855</td>\n",
              "      <td>295.4050</td>\n",
              "      <td>0.7800</td>\n",
              "      <td>0.6639</td>\n",
              "    </tr>\n",
              "    <tr>\n",
              "      <th>1</th>\n",
              "      <td>02.01.2020 09:31:00.000 GMT-0500</td>\n",
              "      <td>295.8150</td>\n",
              "      <td>295.795</td>\n",
              "      <td>295.8500</td>\n",
              "      <td>295.7050</td>\n",
              "      <td>0.0825</td>\n",
              "      <td>0.0808</td>\n",
              "    </tr>\n",
              "    <tr>\n",
              "      <th>2</th>\n",
              "      <td>02.01.2020 09:32:00.000 GMT-0500</td>\n",
              "      <td>295.7950</td>\n",
              "      <td>295.800</td>\n",
              "      <td>295.8100</td>\n",
              "      <td>295.7150</td>\n",
              "      <td>0.0975</td>\n",
              "      <td>0.0806</td>\n",
              "    </tr>\n",
              "    <tr>\n",
              "      <th>3</th>\n",
              "      <td>02.01.2020 09:33:00.000 GMT-0500</td>\n",
              "      <td>295.7850</td>\n",
              "      <td>295.860</td>\n",
              "      <td>295.8600</td>\n",
              "      <td>295.6695</td>\n",
              "      <td>0.4275</td>\n",
              "      <td>0.4231</td>\n",
              "    </tr>\n",
              "    <tr>\n",
              "      <th>4</th>\n",
              "      <td>02.01.2020 09:34:00.000 GMT-0500</td>\n",
              "      <td>295.8605</td>\n",
              "      <td>296.905</td>\n",
              "      <td>296.9250</td>\n",
              "      <td>295.8605</td>\n",
              "      <td>1.8375</td>\n",
              "      <td>1.5123</td>\n",
              "    </tr>\n",
              "    <tr>\n",
              "      <th>...</th>\n",
              "      <td>...</td>\n",
              "      <td>...</td>\n",
              "      <td>...</td>\n",
              "      <td>...</td>\n",
              "      <td>...</td>\n",
              "      <td>...</td>\n",
              "      <td>...</td>\n",
              "    </tr>\n",
              "    <tr>\n",
              "      <th>93178</th>\n",
              "      <td>11.12.2020 15:55:00.000 GMT-0500</td>\n",
              "      <td>122.2200</td>\n",
              "      <td>122.185</td>\n",
              "      <td>122.2550</td>\n",
              "      <td>122.1650</td>\n",
              "      <td>3.3619</td>\n",
              "      <td>3.4400</td>\n",
              "    </tr>\n",
              "    <tr>\n",
              "      <th>93179</th>\n",
              "      <td>11.12.2020 15:56:00.000 GMT-0500</td>\n",
              "      <td>122.1950</td>\n",
              "      <td>122.210</td>\n",
              "      <td>122.2205</td>\n",
              "      <td>122.1350</td>\n",
              "      <td>1.7607</td>\n",
              "      <td>1.6700</td>\n",
              "    </tr>\n",
              "    <tr>\n",
              "      <th>93180</th>\n",
              "      <td>11.12.2020 15:57:00.000 GMT-0500</td>\n",
              "      <td>122.2200</td>\n",
              "      <td>122.235</td>\n",
              "      <td>122.2455</td>\n",
              "      <td>122.1395</td>\n",
              "      <td>3.7251</td>\n",
              "      <td>3.8800</td>\n",
              "    </tr>\n",
              "    <tr>\n",
              "      <th>93181</th>\n",
              "      <td>11.12.2020 15:58:00.000 GMT-0500</td>\n",
              "      <td>122.2450</td>\n",
              "      <td>122.230</td>\n",
              "      <td>122.2555</td>\n",
              "      <td>122.1495</td>\n",
              "      <td>4.1460</td>\n",
              "      <td>4.3800</td>\n",
              "    </tr>\n",
              "    <tr>\n",
              "      <th>93182</th>\n",
              "      <td>11.12.2020 15:59:00.000 GMT-0500</td>\n",
              "      <td>122.2350</td>\n",
              "      <td>122.455</td>\n",
              "      <td>122.4750</td>\n",
              "      <td>122.2200</td>\n",
              "      <td>8.1707</td>\n",
              "      <td>8.6550</td>\n",
              "    </tr>\n",
              "  </tbody>\n",
              "</table>\n",
              "<p>93183 rows × 7 columns</p>\n",
              "</div>"
            ],
            "text/plain": [
              "                             Local time      Open  ...  Volume_x  Volume_y\n",
              "0      02.01.2020 09:30:00.000 GMT-0500  296.2750  ...    0.7800    0.6639\n",
              "1      02.01.2020 09:31:00.000 GMT-0500  295.8150  ...    0.0825    0.0808\n",
              "2      02.01.2020 09:32:00.000 GMT-0500  295.7950  ...    0.0975    0.0806\n",
              "3      02.01.2020 09:33:00.000 GMT-0500  295.7850  ...    0.4275    0.4231\n",
              "4      02.01.2020 09:34:00.000 GMT-0500  295.8605  ...    1.8375    1.5123\n",
              "...                                 ...       ...  ...       ...       ...\n",
              "93178  11.12.2020 15:55:00.000 GMT-0500  122.2200  ...    3.3619    3.4400\n",
              "93179  11.12.2020 15:56:00.000 GMT-0500  122.1950  ...    1.7607    1.6700\n",
              "93180  11.12.2020 15:57:00.000 GMT-0500  122.2200  ...    3.7251    3.8800\n",
              "93181  11.12.2020 15:58:00.000 GMT-0500  122.2450  ...    4.1460    4.3800\n",
              "93182  11.12.2020 15:59:00.000 GMT-0500  122.2350  ...    8.1707    8.6550\n",
              "\n",
              "[93183 rows x 7 columns]"
            ]
          },
          "metadata": {
            "tags": []
          },
          "execution_count": 14
        }
      ]
    },
    {
      "cell_type": "code",
      "metadata": {
        "colab": {
          "base_uri": "https://localhost:8080/",
          "height": 523
        },
        "id": "zRymOgnF81Z-",
        "outputId": "5f1c224b-09a9-42b6-d172-7b1720766119"
      },
      "source": [
        "#df['HLAvg'] = df['Close_bid'].add(df['Close_ask']).div(2)\r\n",
        "df['MA'] = df['Close'].rolling(window=14).mean()\r\n",
        "df = df.dropna()\r\n",
        "df.index = np.arange(0, len(df))\r\n",
        "df['Returns'] = np.log(df['MA']/df['MA'].shift(1))\r\n",
        "df = df.dropna()\r\n",
        "df.index = np.arange(0, len(df))\r\n",
        "df"
      ],
      "execution_count": 15,
      "outputs": [
        {
          "output_type": "stream",
          "text": [
            "/usr/local/lib/python3.6/dist-packages/ipykernel_launcher.py:5: SettingWithCopyWarning: \n",
            "A value is trying to be set on a copy of a slice from a DataFrame.\n",
            "Try using .loc[row_indexer,col_indexer] = value instead\n",
            "\n",
            "See the caveats in the documentation: https://pandas.pydata.org/pandas-docs/stable/user_guide/indexing.html#returning-a-view-versus-a-copy\n",
            "  \"\"\"\n"
          ],
          "name": "stderr"
        },
        {
          "output_type": "execute_result",
          "data": {
            "text/html": [
              "<div>\n",
              "<style scoped>\n",
              "    .dataframe tbody tr th:only-of-type {\n",
              "        vertical-align: middle;\n",
              "    }\n",
              "\n",
              "    .dataframe tbody tr th {\n",
              "        vertical-align: top;\n",
              "    }\n",
              "\n",
              "    .dataframe thead th {\n",
              "        text-align: right;\n",
              "    }\n",
              "</style>\n",
              "<table border=\"1\" class=\"dataframe\">\n",
              "  <thead>\n",
              "    <tr style=\"text-align: right;\">\n",
              "      <th></th>\n",
              "      <th>Local time</th>\n",
              "      <th>Open</th>\n",
              "      <th>Close</th>\n",
              "      <th>High</th>\n",
              "      <th>Low</th>\n",
              "      <th>Volume_x</th>\n",
              "      <th>Volume_y</th>\n",
              "      <th>MA</th>\n",
              "      <th>Returns</th>\n",
              "    </tr>\n",
              "  </thead>\n",
              "  <tbody>\n",
              "    <tr>\n",
              "      <th>0</th>\n",
              "      <td>02.01.2020 09:44:00.000 GMT-0500</td>\n",
              "      <td>297.3300</td>\n",
              "      <td>297.325</td>\n",
              "      <td>297.3300</td>\n",
              "      <td>297.3250</td>\n",
              "      <td>0.0225</td>\n",
              "      <td>0.0400</td>\n",
              "      <td>297.035000</td>\n",
              "      <td>0.000388</td>\n",
              "    </tr>\n",
              "    <tr>\n",
              "      <th>1</th>\n",
              "      <td>02.01.2020 09:45:00.000 GMT-0500</td>\n",
              "      <td>297.2400</td>\n",
              "      <td>297.165</td>\n",
              "      <td>297.2400</td>\n",
              "      <td>297.1600</td>\n",
              "      <td>0.1050</td>\n",
              "      <td>0.0412</td>\n",
              "      <td>297.132857</td>\n",
              "      <td>0.000329</td>\n",
              "    </tr>\n",
              "    <tr>\n",
              "      <th>2</th>\n",
              "      <td>02.01.2020 10:02:00.000 GMT-0500</td>\n",
              "      <td>297.9000</td>\n",
              "      <td>297.660</td>\n",
              "      <td>297.9250</td>\n",
              "      <td>297.5145</td>\n",
              "      <td>3.0150</td>\n",
              "      <td>2.6786</td>\n",
              "      <td>297.265714</td>\n",
              "      <td>0.000447</td>\n",
              "    </tr>\n",
              "    <tr>\n",
              "      <th>3</th>\n",
              "      <td>02.01.2020 10:03:00.000 GMT-0500</td>\n",
              "      <td>297.6695</td>\n",
              "      <td>297.785</td>\n",
              "      <td>297.8155</td>\n",
              "      <td>297.5945</td>\n",
              "      <td>3.1800</td>\n",
              "      <td>2.8610</td>\n",
              "      <td>297.403214</td>\n",
              "      <td>0.000462</td>\n",
              "    </tr>\n",
              "    <tr>\n",
              "      <th>4</th>\n",
              "      <td>02.01.2020 10:04:00.000 GMT-0500</td>\n",
              "      <td>297.7850</td>\n",
              "      <td>297.815</td>\n",
              "      <td>297.9255</td>\n",
              "      <td>297.6850</td>\n",
              "      <td>3.0375</td>\n",
              "      <td>2.3263</td>\n",
              "      <td>297.468214</td>\n",
              "      <td>0.000219</td>\n",
              "    </tr>\n",
              "    <tr>\n",
              "      <th>...</th>\n",
              "      <td>...</td>\n",
              "      <td>...</td>\n",
              "      <td>...</td>\n",
              "      <td>...</td>\n",
              "      <td>...</td>\n",
              "      <td>...</td>\n",
              "      <td>...</td>\n",
              "      <td>...</td>\n",
              "      <td>...</td>\n",
              "    </tr>\n",
              "    <tr>\n",
              "      <th>93164</th>\n",
              "      <td>11.12.2020 15:55:00.000 GMT-0500</td>\n",
              "      <td>122.2200</td>\n",
              "      <td>122.185</td>\n",
              "      <td>122.2550</td>\n",
              "      <td>122.1650</td>\n",
              "      <td>3.3619</td>\n",
              "      <td>3.4400</td>\n",
              "      <td>122.062857</td>\n",
              "      <td>-0.000053</td>\n",
              "    </tr>\n",
              "    <tr>\n",
              "      <th>93165</th>\n",
              "      <td>11.12.2020 15:56:00.000 GMT-0500</td>\n",
              "      <td>122.1950</td>\n",
              "      <td>122.210</td>\n",
              "      <td>122.2205</td>\n",
              "      <td>122.1350</td>\n",
              "      <td>1.7607</td>\n",
              "      <td>1.6700</td>\n",
              "      <td>122.056429</td>\n",
              "      <td>-0.000053</td>\n",
              "    </tr>\n",
              "    <tr>\n",
              "      <th>93166</th>\n",
              "      <td>11.12.2020 15:57:00.000 GMT-0500</td>\n",
              "      <td>122.2200</td>\n",
              "      <td>122.235</td>\n",
              "      <td>122.2455</td>\n",
              "      <td>122.1395</td>\n",
              "      <td>3.7251</td>\n",
              "      <td>3.8800</td>\n",
              "      <td>122.063214</td>\n",
              "      <td>0.000056</td>\n",
              "    </tr>\n",
              "    <tr>\n",
              "      <th>93167</th>\n",
              "      <td>11.12.2020 15:58:00.000 GMT-0500</td>\n",
              "      <td>122.2450</td>\n",
              "      <td>122.230</td>\n",
              "      <td>122.2555</td>\n",
              "      <td>122.1495</td>\n",
              "      <td>4.1460</td>\n",
              "      <td>4.3800</td>\n",
              "      <td>122.071786</td>\n",
              "      <td>0.000070</td>\n",
              "    </tr>\n",
              "    <tr>\n",
              "      <th>93168</th>\n",
              "      <td>11.12.2020 15:59:00.000 GMT-0500</td>\n",
              "      <td>122.2350</td>\n",
              "      <td>122.455</td>\n",
              "      <td>122.4750</td>\n",
              "      <td>122.2200</td>\n",
              "      <td>8.1707</td>\n",
              "      <td>8.6550</td>\n",
              "      <td>122.104643</td>\n",
              "      <td>0.000269</td>\n",
              "    </tr>\n",
              "  </tbody>\n",
              "</table>\n",
              "<p>93169 rows × 9 columns</p>\n",
              "</div>"
            ],
            "text/plain": [
              "                             Local time      Open  ...          MA   Returns\n",
              "0      02.01.2020 09:44:00.000 GMT-0500  297.3300  ...  297.035000  0.000388\n",
              "1      02.01.2020 09:45:00.000 GMT-0500  297.2400  ...  297.132857  0.000329\n",
              "2      02.01.2020 10:02:00.000 GMT-0500  297.9000  ...  297.265714  0.000447\n",
              "3      02.01.2020 10:03:00.000 GMT-0500  297.6695  ...  297.403214  0.000462\n",
              "4      02.01.2020 10:04:00.000 GMT-0500  297.7850  ...  297.468214  0.000219\n",
              "...                                 ...       ...  ...         ...       ...\n",
              "93164  11.12.2020 15:55:00.000 GMT-0500  122.2200  ...  122.062857 -0.000053\n",
              "93165  11.12.2020 15:56:00.000 GMT-0500  122.1950  ...  122.056429 -0.000053\n",
              "93166  11.12.2020 15:57:00.000 GMT-0500  122.2200  ...  122.063214  0.000056\n",
              "93167  11.12.2020 15:58:00.000 GMT-0500  122.2450  ...  122.071786  0.000070\n",
              "93168  11.12.2020 15:59:00.000 GMT-0500  122.2350  ...  122.104643  0.000269\n",
              "\n",
              "[93169 rows x 9 columns]"
            ]
          },
          "metadata": {
            "tags": []
          },
          "execution_count": 15
        }
      ]
    },
    {
      "cell_type": "code",
      "metadata": {
        "id": "7yG7pKgSb_EP"
      },
      "source": [
        "from talib import MA_Type\r\n",
        "\r\n",
        "timeperiod = 14\r\n",
        "\r\n",
        "upper, middle, lower = talib.BBANDS(df['Close'], matype=MA_Type.T3)\r\n",
        "\r\n",
        "df['BBand_upper'] = upper\r\n",
        "df['BBand_middle'] = middle\r\n",
        "df['BBand_lower'] = lower\r\n",
        "\r\n",
        "adx = talib.ADX(df['High'], df['Low'], df['Close'], timeperiod= timeperiod)\r\n",
        "dx = talib.DX(df['High'], df['Low'], df['Close'], timeperiod= timeperiod)\r\n",
        "\r\n",
        "macd, macdsignal, macdhist = talib.MACD(df['Close'], fastperiod=12, slowperiod=26, signalperiod=9)\r\n",
        "slowk, slowd = talib.STOCH(df['High'], df['Low'], df['Close'], fastk_period=5, slowk_period=3, slowk_matype=0, slowd_period=3, slowd_matype=0)\r\n",
        "\r\n",
        "\r\n",
        "df['Average Directional Index'] = adx\r\n",
        "df['Directional Index'] = dx\r\n",
        "df['MACD'] = macd\r\n",
        "df['MACD_signal'] = macdsignal\r\n",
        "df['MACD hist'] = macdhist\r\n",
        "df['stochastic k'] = slowk\r\n",
        "df['stochastic d'] = slowd"
      ],
      "execution_count": 16,
      "outputs": []
    },
    {
      "cell_type": "code",
      "metadata": {
        "id": "o3KJWpZwt2_D"
      },
      "source": [
        "#Movement\r\n",
        "df['movement'] = 100\r\n",
        "\r\n",
        "#Threshold 10%\r\n",
        "for i in range(1,len(df)):\r\n",
        "  if df.loc[i, 'Returns'] > 0:\r\n",
        "    df.loc[i,'movement'] = 1\r\n",
        "  elif df.loc[i, 'Returns'] < 0:\r\n",
        "    df.loc[i,'movement'] = 0"
      ],
      "execution_count": 17,
      "outputs": []
    },
    {
      "cell_type": "code",
      "metadata": {
        "colab": {
          "base_uri": "https://localhost:8080/",
          "height": 813
        },
        "id": "IUql-JSvlxLU",
        "outputId": "52bd4fd3-cb59-4995-c9ba-b93bb2866ac5"
      },
      "source": [
        "df = df.dropna()\r\n",
        "df = df[df.movement != 100]\r\n",
        "\r\n",
        "df.index = np.arange(0, len(df))\r\n",
        "df"
      ],
      "execution_count": 18,
      "outputs": [
        {
          "output_type": "execute_result",
          "data": {
            "text/html": [
              "<div>\n",
              "<style scoped>\n",
              "    .dataframe tbody tr th:only-of-type {\n",
              "        vertical-align: middle;\n",
              "    }\n",
              "\n",
              "    .dataframe tbody tr th {\n",
              "        vertical-align: top;\n",
              "    }\n",
              "\n",
              "    .dataframe thead th {\n",
              "        text-align: right;\n",
              "    }\n",
              "</style>\n",
              "<table border=\"1\" class=\"dataframe\">\n",
              "  <thead>\n",
              "    <tr style=\"text-align: right;\">\n",
              "      <th></th>\n",
              "      <th>Local time</th>\n",
              "      <th>Open</th>\n",
              "      <th>Close</th>\n",
              "      <th>High</th>\n",
              "      <th>Low</th>\n",
              "      <th>Volume_x</th>\n",
              "      <th>Volume_y</th>\n",
              "      <th>MA</th>\n",
              "      <th>Returns</th>\n",
              "      <th>BBand_upper</th>\n",
              "      <th>BBand_middle</th>\n",
              "      <th>BBand_lower</th>\n",
              "      <th>Average Directional Index</th>\n",
              "      <th>Directional Index</th>\n",
              "      <th>MACD</th>\n",
              "      <th>MACD_signal</th>\n",
              "      <th>MACD hist</th>\n",
              "      <th>stochastic k</th>\n",
              "      <th>stochastic d</th>\n",
              "      <th>movement</th>\n",
              "    </tr>\n",
              "  </thead>\n",
              "  <tbody>\n",
              "    <tr>\n",
              "      <th>0</th>\n",
              "      <td>02.01.2020 11:10:00.000 GMT-0500</td>\n",
              "      <td>298.280</td>\n",
              "      <td>298.275</td>\n",
              "      <td>298.2855</td>\n",
              "      <td>298.1595</td>\n",
              "      <td>1.6425</td>\n",
              "      <td>1.3710</td>\n",
              "      <td>298.101786</td>\n",
              "      <td>0.000179</td>\n",
              "      <td>298.301724</td>\n",
              "      <td>298.168908</td>\n",
              "      <td>298.036092</td>\n",
              "      <td>21.999526</td>\n",
              "      <td>28.152144</td>\n",
              "      <td>0.097913</td>\n",
              "      <td>0.026004</td>\n",
              "      <td>0.071909</td>\n",
              "      <td>96.211233</td>\n",
              "      <td>93.470569</td>\n",
              "      <td>1</td>\n",
              "    </tr>\n",
              "    <tr>\n",
              "      <th>1</th>\n",
              "      <td>02.01.2020 11:11:00.000 GMT-0500</td>\n",
              "      <td>298.270</td>\n",
              "      <td>298.365</td>\n",
              "      <td>298.4000</td>\n",
              "      <td>298.2695</td>\n",
              "      <td>1.9425</td>\n",
              "      <td>1.5707</td>\n",
              "      <td>298.126071</td>\n",
              "      <td>0.000081</td>\n",
              "      <td>298.382964</td>\n",
              "      <td>298.225534</td>\n",
              "      <td>298.068105</td>\n",
              "      <td>22.803601</td>\n",
              "      <td>33.256577</td>\n",
              "      <td>0.116295</td>\n",
              "      <td>0.044062</td>\n",
              "      <td>0.072233</td>\n",
              "      <td>94.438553</td>\n",
              "      <td>94.659463</td>\n",
              "      <td>1</td>\n",
              "    </tr>\n",
              "    <tr>\n",
              "      <th>2</th>\n",
              "      <td>02.01.2020 11:12:00.000 GMT-0500</td>\n",
              "      <td>298.370</td>\n",
              "      <td>298.560</td>\n",
              "      <td>298.5755</td>\n",
              "      <td>298.3695</td>\n",
              "      <td>2.1375</td>\n",
              "      <td>1.7171</td>\n",
              "      <td>298.163929</td>\n",
              "      <td>0.000127</td>\n",
              "      <td>298.541696</td>\n",
              "      <td>298.301913</td>\n",
              "      <td>298.062130</td>\n",
              "      <td>24.050637</td>\n",
              "      <td>40.262092</td>\n",
              "      <td>0.144927</td>\n",
              "      <td>0.064235</td>\n",
              "      <td>0.080692</td>\n",
              "      <td>94.492828</td>\n",
              "      <td>95.047538</td>\n",
              "      <td>1</td>\n",
              "    </tr>\n",
              "    <tr>\n",
              "      <th>3</th>\n",
              "      <td>02.01.2020 11:13:00.000 GMT-0500</td>\n",
              "      <td>298.555</td>\n",
              "      <td>298.490</td>\n",
              "      <td>298.6050</td>\n",
              "      <td>298.4095</td>\n",
              "      <td>2.3550</td>\n",
              "      <td>1.9389</td>\n",
              "      <td>298.187500</td>\n",
              "      <td>0.000079</td>\n",
              "      <td>298.605967</td>\n",
              "      <td>298.376306</td>\n",
              "      <td>298.146645</td>\n",
              "      <td>25.288160</td>\n",
              "      <td>41.375968</td>\n",
              "      <td>0.160124</td>\n",
              "      <td>0.083413</td>\n",
              "      <td>0.076711</td>\n",
              "      <td>86.986386</td>\n",
              "      <td>91.972589</td>\n",
              "      <td>1</td>\n",
              "    </tr>\n",
              "    <tr>\n",
              "      <th>4</th>\n",
              "      <td>02.01.2020 11:14:00.000 GMT-0500</td>\n",
              "      <td>298.480</td>\n",
              "      <td>298.730</td>\n",
              "      <td>298.7355</td>\n",
              "      <td>298.4795</td>\n",
              "      <td>1.6500</td>\n",
              "      <td>1.3316</td>\n",
              "      <td>298.218929</td>\n",
              "      <td>0.000105</td>\n",
              "      <td>298.780408</td>\n",
              "      <td>298.465232</td>\n",
              "      <td>298.150056</td>\n",
              "      <td>26.778913</td>\n",
              "      <td>46.158695</td>\n",
              "      <td>0.189351</td>\n",
              "      <td>0.104601</td>\n",
              "      <td>0.084750</td>\n",
              "      <td>90.044848</td>\n",
              "      <td>90.508021</td>\n",
              "      <td>1</td>\n",
              "    </tr>\n",
              "    <tr>\n",
              "      <th>...</th>\n",
              "      <td>...</td>\n",
              "      <td>...</td>\n",
              "      <td>...</td>\n",
              "      <td>...</td>\n",
              "      <td>...</td>\n",
              "      <td>...</td>\n",
              "      <td>...</td>\n",
              "      <td>...</td>\n",
              "      <td>...</td>\n",
              "      <td>...</td>\n",
              "      <td>...</td>\n",
              "      <td>...</td>\n",
              "      <td>...</td>\n",
              "      <td>...</td>\n",
              "      <td>...</td>\n",
              "      <td>...</td>\n",
              "      <td>...</td>\n",
              "      <td>...</td>\n",
              "      <td>...</td>\n",
              "      <td>...</td>\n",
              "    </tr>\n",
              "    <tr>\n",
              "      <th>92818</th>\n",
              "      <td>11.12.2020 15:55:00.000 GMT-0500</td>\n",
              "      <td>122.220</td>\n",
              "      <td>122.185</td>\n",
              "      <td>122.2550</td>\n",
              "      <td>122.1650</td>\n",
              "      <td>3.3619</td>\n",
              "      <td>3.4400</td>\n",
              "      <td>122.062857</td>\n",
              "      <td>-0.000053</td>\n",
              "      <td>122.279334</td>\n",
              "      <td>122.036715</td>\n",
              "      <td>121.794096</td>\n",
              "      <td>18.047640</td>\n",
              "      <td>19.461349</td>\n",
              "      <td>-0.019483</td>\n",
              "      <td>-0.026656</td>\n",
              "      <td>0.007173</td>\n",
              "      <td>56.997702</td>\n",
              "      <td>37.459158</td>\n",
              "      <td>0</td>\n",
              "    </tr>\n",
              "    <tr>\n",
              "      <th>92819</th>\n",
              "      <td>11.12.2020 15:56:00.000 GMT-0500</td>\n",
              "      <td>122.195</td>\n",
              "      <td>122.210</td>\n",
              "      <td>122.2205</td>\n",
              "      <td>122.1350</td>\n",
              "      <td>1.7607</td>\n",
              "      <td>1.6700</td>\n",
              "      <td>122.056429</td>\n",
              "      <td>-0.000053</td>\n",
              "      <td>122.342990</td>\n",
              "      <td>122.082559</td>\n",
              "      <td>121.822129</td>\n",
              "      <td>17.821065</td>\n",
              "      <td>14.875593</td>\n",
              "      <td>-0.007855</td>\n",
              "      <td>-0.022896</td>\n",
              "      <td>0.015041</td>\n",
              "      <td>83.065749</td>\n",
              "      <td>58.266148</td>\n",
              "      <td>0</td>\n",
              "    </tr>\n",
              "    <tr>\n",
              "      <th>92820</th>\n",
              "      <td>11.12.2020 15:57:00.000 GMT-0500</td>\n",
              "      <td>122.220</td>\n",
              "      <td>122.235</td>\n",
              "      <td>122.2455</td>\n",
              "      <td>122.1395</td>\n",
              "      <td>3.7251</td>\n",
              "      <td>3.8800</td>\n",
              "      <td>122.063214</td>\n",
              "      <td>0.000056</td>\n",
              "      <td>122.371346</td>\n",
              "      <td>122.129983</td>\n",
              "      <td>121.888620</td>\n",
              "      <td>17.813164</td>\n",
              "      <td>17.710453</td>\n",
              "      <td>0.003339</td>\n",
              "      <td>-0.017649</td>\n",
              "      <td>0.020988</td>\n",
              "      <td>83.830275</td>\n",
              "      <td>74.631242</td>\n",
              "      <td>1</td>\n",
              "    </tr>\n",
              "    <tr>\n",
              "      <th>92821</th>\n",
              "      <td>11.12.2020 15:58:00.000 GMT-0500</td>\n",
              "      <td>122.245</td>\n",
              "      <td>122.230</td>\n",
              "      <td>122.2555</td>\n",
              "      <td>122.1495</td>\n",
              "      <td>4.1460</td>\n",
              "      <td>4.3800</td>\n",
              "      <td>122.071786</td>\n",
              "      <td>0.000070</td>\n",
              "      <td>122.207497</td>\n",
              "      <td>122.171386</td>\n",
              "      <td>122.135275</td>\n",
              "      <td>17.888957</td>\n",
              "      <td>18.874260</td>\n",
              "      <td>0.011672</td>\n",
              "      <td>-0.011785</td>\n",
              "      <td>0.023457</td>\n",
              "      <td>87.270642</td>\n",
              "      <td>84.722222</td>\n",
              "      <td>1</td>\n",
              "    </tr>\n",
              "    <tr>\n",
              "      <th>92822</th>\n",
              "      <td>11.12.2020 15:59:00.000 GMT-0500</td>\n",
              "      <td>122.235</td>\n",
              "      <td>122.455</td>\n",
              "      <td>122.4750</td>\n",
              "      <td>122.2200</td>\n",
              "      <td>8.1707</td>\n",
              "      <td>8.6550</td>\n",
              "      <td>122.104643</td>\n",
              "      <td>0.000269</td>\n",
              "      <td>122.424819</td>\n",
              "      <td>122.229616</td>\n",
              "      <td>122.034414</td>\n",
              "      <td>19.411206</td>\n",
              "      <td>39.200444</td>\n",
              "      <td>0.036016</td>\n",
              "      <td>-0.002225</td>\n",
              "      <td>0.038241</td>\n",
              "      <td>90.699766</td>\n",
              "      <td>87.266895</td>\n",
              "      <td>1</td>\n",
              "    </tr>\n",
              "  </tbody>\n",
              "</table>\n",
              "<p>92823 rows × 20 columns</p>\n",
              "</div>"
            ],
            "text/plain": [
              "                             Local time     Open  ...  stochastic d  movement\n",
              "0      02.01.2020 11:10:00.000 GMT-0500  298.280  ...     93.470569         1\n",
              "1      02.01.2020 11:11:00.000 GMT-0500  298.270  ...     94.659463         1\n",
              "2      02.01.2020 11:12:00.000 GMT-0500  298.370  ...     95.047538         1\n",
              "3      02.01.2020 11:13:00.000 GMT-0500  298.555  ...     91.972589         1\n",
              "4      02.01.2020 11:14:00.000 GMT-0500  298.480  ...     90.508021         1\n",
              "...                                 ...      ...  ...           ...       ...\n",
              "92818  11.12.2020 15:55:00.000 GMT-0500  122.220  ...     37.459158         0\n",
              "92819  11.12.2020 15:56:00.000 GMT-0500  122.195  ...     58.266148         0\n",
              "92820  11.12.2020 15:57:00.000 GMT-0500  122.220  ...     74.631242         1\n",
              "92821  11.12.2020 15:58:00.000 GMT-0500  122.245  ...     84.722222         1\n",
              "92822  11.12.2020 15:59:00.000 GMT-0500  122.235  ...     87.266895         1\n",
              "\n",
              "[92823 rows x 20 columns]"
            ]
          },
          "metadata": {
            "tags": []
          },
          "execution_count": 18
        }
      ]
    },
    {
      "cell_type": "code",
      "metadata": {
        "colab": {
          "base_uri": "https://localhost:8080/"
        },
        "id": "8xo5cM0jnZcW",
        "outputId": "812828cc-64e5-45d6-dc5f-4f2514600424"
      },
      "source": [
        "train_size = int(len(df) * .7)\r\n",
        "df_train =  df.iloc[:train_size]\r\n",
        "df_val = df.iloc[train_size:]\r\n",
        "\r\n",
        "print(len(df_train), len(df_val))"
      ],
      "execution_count": 19,
      "outputs": [
        {
          "output_type": "stream",
          "text": [
            "64976 27847\n"
          ],
          "name": "stdout"
        }
      ]
    },
    {
      "cell_type": "code",
      "metadata": {
        "colab": {
          "base_uri": "https://localhost:8080/",
          "height": 813
        },
        "id": "Hqu8PWYUjQ-G",
        "outputId": "e57bb040-e3c3-4e23-e822-f5648ce5150b"
      },
      "source": [
        "df_val"
      ],
      "execution_count": 20,
      "outputs": [
        {
          "output_type": "execute_result",
          "data": {
            "text/html": [
              "<div>\n",
              "<style scoped>\n",
              "    .dataframe tbody tr th:only-of-type {\n",
              "        vertical-align: middle;\n",
              "    }\n",
              "\n",
              "    .dataframe tbody tr th {\n",
              "        vertical-align: top;\n",
              "    }\n",
              "\n",
              "    .dataframe thead th {\n",
              "        text-align: right;\n",
              "    }\n",
              "</style>\n",
              "<table border=\"1\" class=\"dataframe\">\n",
              "  <thead>\n",
              "    <tr style=\"text-align: right;\">\n",
              "      <th></th>\n",
              "      <th>Local time</th>\n",
              "      <th>Open</th>\n",
              "      <th>Close</th>\n",
              "      <th>High</th>\n",
              "      <th>Low</th>\n",
              "      <th>Volume_x</th>\n",
              "      <th>Volume_y</th>\n",
              "      <th>MA</th>\n",
              "      <th>Returns</th>\n",
              "      <th>BBand_upper</th>\n",
              "      <th>BBand_middle</th>\n",
              "      <th>BBand_lower</th>\n",
              "      <th>Average Directional Index</th>\n",
              "      <th>Directional Index</th>\n",
              "      <th>MACD</th>\n",
              "      <th>MACD_signal</th>\n",
              "      <th>MACD hist</th>\n",
              "      <th>stochastic k</th>\n",
              "      <th>stochastic d</th>\n",
              "      <th>movement</th>\n",
              "    </tr>\n",
              "  </thead>\n",
              "  <tbody>\n",
              "    <tr>\n",
              "      <th>64976</th>\n",
              "      <td>31.08.2020 13:22:00.000 GMT-0400</td>\n",
              "      <td>130.725</td>\n",
              "      <td>130.580</td>\n",
              "      <td>130.7505</td>\n",
              "      <td>130.5750</td>\n",
              "      <td>4.7450</td>\n",
              "      <td>4.3700</td>\n",
              "      <td>130.407500</td>\n",
              "      <td>0.000389</td>\n",
              "      <td>130.785107</td>\n",
              "      <td>130.593754</td>\n",
              "      <td>130.402401</td>\n",
              "      <td>43.595720</td>\n",
              "      <td>59.361556</td>\n",
              "      <td>0.283872</td>\n",
              "      <td>0.265196</td>\n",
              "      <td>0.018676</td>\n",
              "      <td>81.604078</td>\n",
              "      <td>86.432993</td>\n",
              "      <td>1</td>\n",
              "    </tr>\n",
              "    <tr>\n",
              "      <th>64977</th>\n",
              "      <td>31.08.2020 13:23:00.000 GMT-0400</td>\n",
              "      <td>130.585</td>\n",
              "      <td>130.730</td>\n",
              "      <td>130.7555</td>\n",
              "      <td>130.5595</td>\n",
              "      <td>4.1700</td>\n",
              "      <td>3.9575</td>\n",
              "      <td>130.436786</td>\n",
              "      <td>0.000225</td>\n",
              "      <td>130.805117</td>\n",
              "      <td>130.634636</td>\n",
              "      <td>130.464154</td>\n",
              "      <td>44.531053</td>\n",
              "      <td>56.690375</td>\n",
              "      <td>0.287873</td>\n",
              "      <td>0.269732</td>\n",
              "      <td>0.018142</td>\n",
              "      <td>82.072863</td>\n",
              "      <td>85.080923</td>\n",
              "      <td>1</td>\n",
              "    </tr>\n",
              "    <tr>\n",
              "      <th>64978</th>\n",
              "      <td>31.08.2020 13:24:00.000 GMT-0400</td>\n",
              "      <td>130.730</td>\n",
              "      <td>130.830</td>\n",
              "      <td>130.8405</td>\n",
              "      <td>130.7145</td>\n",
              "      <td>4.4725</td>\n",
              "      <td>4.3600</td>\n",
              "      <td>130.478571</td>\n",
              "      <td>0.000320</td>\n",
              "      <td>130.874116</td>\n",
              "      <td>130.685394</td>\n",
              "      <td>130.496672</td>\n",
              "      <td>45.678223</td>\n",
              "      <td>60.591431</td>\n",
              "      <td>0.295705</td>\n",
              "      <td>0.274926</td>\n",
              "      <td>0.020778</td>\n",
              "      <td>82.248863</td>\n",
              "      <td>81.975268</td>\n",
              "      <td>1</td>\n",
              "    </tr>\n",
              "    <tr>\n",
              "      <th>64979</th>\n",
              "      <td>31.08.2020 13:25:00.000 GMT-0400</td>\n",
              "      <td>130.830</td>\n",
              "      <td>130.730</td>\n",
              "      <td>130.8905</td>\n",
              "      <td>130.7095</td>\n",
              "      <td>4.7875</td>\n",
              "      <td>4.6250</td>\n",
              "      <td>130.515714</td>\n",
              "      <td>0.000285</td>\n",
              "      <td>130.885945</td>\n",
              "      <td>130.726145</td>\n",
              "      <td>130.566345</td>\n",
              "      <td>46.895400</td>\n",
              "      <td>62.718710</td>\n",
              "      <td>0.290493</td>\n",
              "      <td>0.278040</td>\n",
              "      <td>0.012453</td>\n",
              "      <td>80.258622</td>\n",
              "      <td>81.526783</td>\n",
              "      <td>1</td>\n",
              "    </tr>\n",
              "    <tr>\n",
              "      <th>64980</th>\n",
              "      <td>31.08.2020 13:26:00.000 GMT-0400</td>\n",
              "      <td>130.735</td>\n",
              "      <td>130.435</td>\n",
              "      <td>130.7505</td>\n",
              "      <td>130.4195</td>\n",
              "      <td>5.9950</td>\n",
              "      <td>5.7825</td>\n",
              "      <td>130.536071</td>\n",
              "      <td>0.000156</td>\n",
              "      <td>130.994608</td>\n",
              "      <td>130.717885</td>\n",
              "      <td>130.441161</td>\n",
              "      <td>45.094947</td>\n",
              "      <td>21.689047</td>\n",
              "      <td>0.259567</td>\n",
              "      <td>0.274345</td>\n",
              "      <td>-0.014778</td>\n",
              "      <td>50.629608</td>\n",
              "      <td>71.045698</td>\n",
              "      <td>1</td>\n",
              "    </tr>\n",
              "    <tr>\n",
              "      <th>...</th>\n",
              "      <td>...</td>\n",
              "      <td>...</td>\n",
              "      <td>...</td>\n",
              "      <td>...</td>\n",
              "      <td>...</td>\n",
              "      <td>...</td>\n",
              "      <td>...</td>\n",
              "      <td>...</td>\n",
              "      <td>...</td>\n",
              "      <td>...</td>\n",
              "      <td>...</td>\n",
              "      <td>...</td>\n",
              "      <td>...</td>\n",
              "      <td>...</td>\n",
              "      <td>...</td>\n",
              "      <td>...</td>\n",
              "      <td>...</td>\n",
              "      <td>...</td>\n",
              "      <td>...</td>\n",
              "      <td>...</td>\n",
              "    </tr>\n",
              "    <tr>\n",
              "      <th>92818</th>\n",
              "      <td>11.12.2020 15:55:00.000 GMT-0500</td>\n",
              "      <td>122.220</td>\n",
              "      <td>122.185</td>\n",
              "      <td>122.2550</td>\n",
              "      <td>122.1650</td>\n",
              "      <td>3.3619</td>\n",
              "      <td>3.4400</td>\n",
              "      <td>122.062857</td>\n",
              "      <td>-0.000053</td>\n",
              "      <td>122.279334</td>\n",
              "      <td>122.036715</td>\n",
              "      <td>121.794096</td>\n",
              "      <td>18.047640</td>\n",
              "      <td>19.461349</td>\n",
              "      <td>-0.019483</td>\n",
              "      <td>-0.026656</td>\n",
              "      <td>0.007173</td>\n",
              "      <td>56.997702</td>\n",
              "      <td>37.459158</td>\n",
              "      <td>0</td>\n",
              "    </tr>\n",
              "    <tr>\n",
              "      <th>92819</th>\n",
              "      <td>11.12.2020 15:56:00.000 GMT-0500</td>\n",
              "      <td>122.195</td>\n",
              "      <td>122.210</td>\n",
              "      <td>122.2205</td>\n",
              "      <td>122.1350</td>\n",
              "      <td>1.7607</td>\n",
              "      <td>1.6700</td>\n",
              "      <td>122.056429</td>\n",
              "      <td>-0.000053</td>\n",
              "      <td>122.342990</td>\n",
              "      <td>122.082559</td>\n",
              "      <td>121.822129</td>\n",
              "      <td>17.821065</td>\n",
              "      <td>14.875593</td>\n",
              "      <td>-0.007855</td>\n",
              "      <td>-0.022896</td>\n",
              "      <td>0.015041</td>\n",
              "      <td>83.065749</td>\n",
              "      <td>58.266148</td>\n",
              "      <td>0</td>\n",
              "    </tr>\n",
              "    <tr>\n",
              "      <th>92820</th>\n",
              "      <td>11.12.2020 15:57:00.000 GMT-0500</td>\n",
              "      <td>122.220</td>\n",
              "      <td>122.235</td>\n",
              "      <td>122.2455</td>\n",
              "      <td>122.1395</td>\n",
              "      <td>3.7251</td>\n",
              "      <td>3.8800</td>\n",
              "      <td>122.063214</td>\n",
              "      <td>0.000056</td>\n",
              "      <td>122.371346</td>\n",
              "      <td>122.129983</td>\n",
              "      <td>121.888620</td>\n",
              "      <td>17.813164</td>\n",
              "      <td>17.710453</td>\n",
              "      <td>0.003339</td>\n",
              "      <td>-0.017649</td>\n",
              "      <td>0.020988</td>\n",
              "      <td>83.830275</td>\n",
              "      <td>74.631242</td>\n",
              "      <td>1</td>\n",
              "    </tr>\n",
              "    <tr>\n",
              "      <th>92821</th>\n",
              "      <td>11.12.2020 15:58:00.000 GMT-0500</td>\n",
              "      <td>122.245</td>\n",
              "      <td>122.230</td>\n",
              "      <td>122.2555</td>\n",
              "      <td>122.1495</td>\n",
              "      <td>4.1460</td>\n",
              "      <td>4.3800</td>\n",
              "      <td>122.071786</td>\n",
              "      <td>0.000070</td>\n",
              "      <td>122.207497</td>\n",
              "      <td>122.171386</td>\n",
              "      <td>122.135275</td>\n",
              "      <td>17.888957</td>\n",
              "      <td>18.874260</td>\n",
              "      <td>0.011672</td>\n",
              "      <td>-0.011785</td>\n",
              "      <td>0.023457</td>\n",
              "      <td>87.270642</td>\n",
              "      <td>84.722222</td>\n",
              "      <td>1</td>\n",
              "    </tr>\n",
              "    <tr>\n",
              "      <th>92822</th>\n",
              "      <td>11.12.2020 15:59:00.000 GMT-0500</td>\n",
              "      <td>122.235</td>\n",
              "      <td>122.455</td>\n",
              "      <td>122.4750</td>\n",
              "      <td>122.2200</td>\n",
              "      <td>8.1707</td>\n",
              "      <td>8.6550</td>\n",
              "      <td>122.104643</td>\n",
              "      <td>0.000269</td>\n",
              "      <td>122.424819</td>\n",
              "      <td>122.229616</td>\n",
              "      <td>122.034414</td>\n",
              "      <td>19.411206</td>\n",
              "      <td>39.200444</td>\n",
              "      <td>0.036016</td>\n",
              "      <td>-0.002225</td>\n",
              "      <td>0.038241</td>\n",
              "      <td>90.699766</td>\n",
              "      <td>87.266895</td>\n",
              "      <td>1</td>\n",
              "    </tr>\n",
              "  </tbody>\n",
              "</table>\n",
              "<p>27847 rows × 20 columns</p>\n",
              "</div>"
            ],
            "text/plain": [
              "                             Local time     Open  ...  stochastic d  movement\n",
              "64976  31.08.2020 13:22:00.000 GMT-0400  130.725  ...     86.432993         1\n",
              "64977  31.08.2020 13:23:00.000 GMT-0400  130.585  ...     85.080923         1\n",
              "64978  31.08.2020 13:24:00.000 GMT-0400  130.730  ...     81.975268         1\n",
              "64979  31.08.2020 13:25:00.000 GMT-0400  130.830  ...     81.526783         1\n",
              "64980  31.08.2020 13:26:00.000 GMT-0400  130.735  ...     71.045698         1\n",
              "...                                 ...      ...  ...           ...       ...\n",
              "92818  11.12.2020 15:55:00.000 GMT-0500  122.220  ...     37.459158         0\n",
              "92819  11.12.2020 15:56:00.000 GMT-0500  122.195  ...     58.266148         0\n",
              "92820  11.12.2020 15:57:00.000 GMT-0500  122.220  ...     74.631242         1\n",
              "92821  11.12.2020 15:58:00.000 GMT-0500  122.245  ...     84.722222         1\n",
              "92822  11.12.2020 15:59:00.000 GMT-0500  122.235  ...     87.266895         1\n",
              "\n",
              "[27847 rows x 20 columns]"
            ]
          },
          "metadata": {
            "tags": []
          },
          "execution_count": 20
        }
      ]
    },
    {
      "cell_type": "code",
      "metadata": {
        "id": "arlHAJFpjY2k"
      },
      "source": [
        "feature_columns = ['Open', 'High', 'Low', 'Volume_x', 'Volume_y', 'MA', 'Returns',\r\n",
        "       'BBand_upper', 'BBand_middle', 'BBand_lower', 'Directional Index',\r\n",
        "       'Average Directional Index', 'MACD', 'MACD_signal', 'MACD hist',\r\n",
        "        'stochastic k', 'stochastic d']"
      ],
      "execution_count": 21,
      "outputs": []
    },
    {
      "cell_type": "code",
      "metadata": {
        "colab": {
          "base_uri": "https://localhost:8080/"
        },
        "id": "exR3TdwxeeDC",
        "outputId": "0e728244-88f9-4c76-808e-b8c5453cd168"
      },
      "source": [
        "#Scaling\r\n",
        "from sklearn.preprocessing import MinMaxScaler\r\n",
        "scaler = MinMaxScaler()\r\n",
        "\r\n",
        "feature_columns = ['Open', 'High', 'Low', 'Volume_x', 'Volume_y', 'MA', 'Returns',\r\n",
        "       'BBand_upper', 'BBand_middle', 'BBand_lower', 'Directional Index',\r\n",
        "       'Average Directional Index', 'MACD', 'MACD_signal', 'MACD hist',\r\n",
        "        'stochastic k', 'stochastic d']\r\n",
        "\r\n",
        "\r\n",
        "for feature in feature_columns:\r\n",
        "  df_train[feature] = scaler.fit_transform(df_train[[feature]].values)\r\n",
        "  df_val[feature] = scaler.transform(df_val[[feature]])\r\n",
        "\r\n"
      ],
      "execution_count": 22,
      "outputs": [
        {
          "output_type": "stream",
          "text": [
            "/usr/local/lib/python3.6/dist-packages/ipykernel_launcher.py:12: SettingWithCopyWarning: \n",
            "A value is trying to be set on a copy of a slice from a DataFrame.\n",
            "Try using .loc[row_indexer,col_indexer] = value instead\n",
            "\n",
            "See the caveats in the documentation: https://pandas.pydata.org/pandas-docs/stable/user_guide/indexing.html#returning-a-view-versus-a-copy\n",
            "  if sys.path[0] == '':\n",
            "/usr/local/lib/python3.6/dist-packages/ipykernel_launcher.py:13: SettingWithCopyWarning: \n",
            "A value is trying to be set on a copy of a slice from a DataFrame.\n",
            "Try using .loc[row_indexer,col_indexer] = value instead\n",
            "\n",
            "See the caveats in the documentation: https://pandas.pydata.org/pandas-docs/stable/user_guide/indexing.html#returning-a-view-versus-a-copy\n",
            "  del sys.path[0]\n",
            "/usr/local/lib/python3.6/dist-packages/ipykernel_launcher.py:12: SettingWithCopyWarning: \n",
            "A value is trying to be set on a copy of a slice from a DataFrame.\n",
            "Try using .loc[row_indexer,col_indexer] = value instead\n",
            "\n",
            "See the caveats in the documentation: https://pandas.pydata.org/pandas-docs/stable/user_guide/indexing.html#returning-a-view-versus-a-copy\n",
            "  if sys.path[0] == '':\n",
            "/usr/local/lib/python3.6/dist-packages/ipykernel_launcher.py:13: SettingWithCopyWarning: \n",
            "A value is trying to be set on a copy of a slice from a DataFrame.\n",
            "Try using .loc[row_indexer,col_indexer] = value instead\n",
            "\n",
            "See the caveats in the documentation: https://pandas.pydata.org/pandas-docs/stable/user_guide/indexing.html#returning-a-view-versus-a-copy\n",
            "  del sys.path[0]\n",
            "/usr/local/lib/python3.6/dist-packages/ipykernel_launcher.py:12: SettingWithCopyWarning: \n",
            "A value is trying to be set on a copy of a slice from a DataFrame.\n",
            "Try using .loc[row_indexer,col_indexer] = value instead\n",
            "\n",
            "See the caveats in the documentation: https://pandas.pydata.org/pandas-docs/stable/user_guide/indexing.html#returning-a-view-versus-a-copy\n",
            "  if sys.path[0] == '':\n",
            "/usr/local/lib/python3.6/dist-packages/ipykernel_launcher.py:13: SettingWithCopyWarning: \n",
            "A value is trying to be set on a copy of a slice from a DataFrame.\n",
            "Try using .loc[row_indexer,col_indexer] = value instead\n",
            "\n",
            "See the caveats in the documentation: https://pandas.pydata.org/pandas-docs/stable/user_guide/indexing.html#returning-a-view-versus-a-copy\n",
            "  del sys.path[0]\n",
            "/usr/local/lib/python3.6/dist-packages/ipykernel_launcher.py:12: SettingWithCopyWarning: \n",
            "A value is trying to be set on a copy of a slice from a DataFrame.\n",
            "Try using .loc[row_indexer,col_indexer] = value instead\n",
            "\n",
            "See the caveats in the documentation: https://pandas.pydata.org/pandas-docs/stable/user_guide/indexing.html#returning-a-view-versus-a-copy\n",
            "  if sys.path[0] == '':\n",
            "/usr/local/lib/python3.6/dist-packages/ipykernel_launcher.py:13: SettingWithCopyWarning: \n",
            "A value is trying to be set on a copy of a slice from a DataFrame.\n",
            "Try using .loc[row_indexer,col_indexer] = value instead\n",
            "\n",
            "See the caveats in the documentation: https://pandas.pydata.org/pandas-docs/stable/user_guide/indexing.html#returning-a-view-versus-a-copy\n",
            "  del sys.path[0]\n",
            "/usr/local/lib/python3.6/dist-packages/ipykernel_launcher.py:12: SettingWithCopyWarning: \n",
            "A value is trying to be set on a copy of a slice from a DataFrame.\n",
            "Try using .loc[row_indexer,col_indexer] = value instead\n",
            "\n",
            "See the caveats in the documentation: https://pandas.pydata.org/pandas-docs/stable/user_guide/indexing.html#returning-a-view-versus-a-copy\n",
            "  if sys.path[0] == '':\n",
            "/usr/local/lib/python3.6/dist-packages/ipykernel_launcher.py:13: SettingWithCopyWarning: \n",
            "A value is trying to be set on a copy of a slice from a DataFrame.\n",
            "Try using .loc[row_indexer,col_indexer] = value instead\n",
            "\n",
            "See the caveats in the documentation: https://pandas.pydata.org/pandas-docs/stable/user_guide/indexing.html#returning-a-view-versus-a-copy\n",
            "  del sys.path[0]\n",
            "/usr/local/lib/python3.6/dist-packages/ipykernel_launcher.py:12: SettingWithCopyWarning: \n",
            "A value is trying to be set on a copy of a slice from a DataFrame.\n",
            "Try using .loc[row_indexer,col_indexer] = value instead\n",
            "\n",
            "See the caveats in the documentation: https://pandas.pydata.org/pandas-docs/stable/user_guide/indexing.html#returning-a-view-versus-a-copy\n",
            "  if sys.path[0] == '':\n",
            "/usr/local/lib/python3.6/dist-packages/ipykernel_launcher.py:13: SettingWithCopyWarning: \n",
            "A value is trying to be set on a copy of a slice from a DataFrame.\n",
            "Try using .loc[row_indexer,col_indexer] = value instead\n",
            "\n",
            "See the caveats in the documentation: https://pandas.pydata.org/pandas-docs/stable/user_guide/indexing.html#returning-a-view-versus-a-copy\n",
            "  del sys.path[0]\n",
            "/usr/local/lib/python3.6/dist-packages/ipykernel_launcher.py:12: SettingWithCopyWarning: \n",
            "A value is trying to be set on a copy of a slice from a DataFrame.\n",
            "Try using .loc[row_indexer,col_indexer] = value instead\n",
            "\n",
            "See the caveats in the documentation: https://pandas.pydata.org/pandas-docs/stable/user_guide/indexing.html#returning-a-view-versus-a-copy\n",
            "  if sys.path[0] == '':\n",
            "/usr/local/lib/python3.6/dist-packages/ipykernel_launcher.py:13: SettingWithCopyWarning: \n",
            "A value is trying to be set on a copy of a slice from a DataFrame.\n",
            "Try using .loc[row_indexer,col_indexer] = value instead\n",
            "\n",
            "See the caveats in the documentation: https://pandas.pydata.org/pandas-docs/stable/user_guide/indexing.html#returning-a-view-versus-a-copy\n",
            "  del sys.path[0]\n",
            "/usr/local/lib/python3.6/dist-packages/ipykernel_launcher.py:12: SettingWithCopyWarning: \n",
            "A value is trying to be set on a copy of a slice from a DataFrame.\n",
            "Try using .loc[row_indexer,col_indexer] = value instead\n",
            "\n",
            "See the caveats in the documentation: https://pandas.pydata.org/pandas-docs/stable/user_guide/indexing.html#returning-a-view-versus-a-copy\n",
            "  if sys.path[0] == '':\n",
            "/usr/local/lib/python3.6/dist-packages/ipykernel_launcher.py:13: SettingWithCopyWarning: \n",
            "A value is trying to be set on a copy of a slice from a DataFrame.\n",
            "Try using .loc[row_indexer,col_indexer] = value instead\n",
            "\n",
            "See the caveats in the documentation: https://pandas.pydata.org/pandas-docs/stable/user_guide/indexing.html#returning-a-view-versus-a-copy\n",
            "  del sys.path[0]\n",
            "/usr/local/lib/python3.6/dist-packages/ipykernel_launcher.py:12: SettingWithCopyWarning: \n",
            "A value is trying to be set on a copy of a slice from a DataFrame.\n",
            "Try using .loc[row_indexer,col_indexer] = value instead\n",
            "\n",
            "See the caveats in the documentation: https://pandas.pydata.org/pandas-docs/stable/user_guide/indexing.html#returning-a-view-versus-a-copy\n",
            "  if sys.path[0] == '':\n",
            "/usr/local/lib/python3.6/dist-packages/ipykernel_launcher.py:13: SettingWithCopyWarning: \n",
            "A value is trying to be set on a copy of a slice from a DataFrame.\n",
            "Try using .loc[row_indexer,col_indexer] = value instead\n",
            "\n",
            "See the caveats in the documentation: https://pandas.pydata.org/pandas-docs/stable/user_guide/indexing.html#returning-a-view-versus-a-copy\n",
            "  del sys.path[0]\n",
            "/usr/local/lib/python3.6/dist-packages/ipykernel_launcher.py:12: SettingWithCopyWarning: \n",
            "A value is trying to be set on a copy of a slice from a DataFrame.\n",
            "Try using .loc[row_indexer,col_indexer] = value instead\n",
            "\n",
            "See the caveats in the documentation: https://pandas.pydata.org/pandas-docs/stable/user_guide/indexing.html#returning-a-view-versus-a-copy\n",
            "  if sys.path[0] == '':\n",
            "/usr/local/lib/python3.6/dist-packages/ipykernel_launcher.py:13: SettingWithCopyWarning: \n",
            "A value is trying to be set on a copy of a slice from a DataFrame.\n",
            "Try using .loc[row_indexer,col_indexer] = value instead\n",
            "\n",
            "See the caveats in the documentation: https://pandas.pydata.org/pandas-docs/stable/user_guide/indexing.html#returning-a-view-versus-a-copy\n",
            "  del sys.path[0]\n",
            "/usr/local/lib/python3.6/dist-packages/ipykernel_launcher.py:12: SettingWithCopyWarning: \n",
            "A value is trying to be set on a copy of a slice from a DataFrame.\n",
            "Try using .loc[row_indexer,col_indexer] = value instead\n",
            "\n",
            "See the caveats in the documentation: https://pandas.pydata.org/pandas-docs/stable/user_guide/indexing.html#returning-a-view-versus-a-copy\n",
            "  if sys.path[0] == '':\n",
            "/usr/local/lib/python3.6/dist-packages/ipykernel_launcher.py:13: SettingWithCopyWarning: \n",
            "A value is trying to be set on a copy of a slice from a DataFrame.\n",
            "Try using .loc[row_indexer,col_indexer] = value instead\n",
            "\n",
            "See the caveats in the documentation: https://pandas.pydata.org/pandas-docs/stable/user_guide/indexing.html#returning-a-view-versus-a-copy\n",
            "  del sys.path[0]\n",
            "/usr/local/lib/python3.6/dist-packages/ipykernel_launcher.py:12: SettingWithCopyWarning: \n",
            "A value is trying to be set on a copy of a slice from a DataFrame.\n",
            "Try using .loc[row_indexer,col_indexer] = value instead\n",
            "\n",
            "See the caveats in the documentation: https://pandas.pydata.org/pandas-docs/stable/user_guide/indexing.html#returning-a-view-versus-a-copy\n",
            "  if sys.path[0] == '':\n",
            "/usr/local/lib/python3.6/dist-packages/ipykernel_launcher.py:13: SettingWithCopyWarning: \n",
            "A value is trying to be set on a copy of a slice from a DataFrame.\n",
            "Try using .loc[row_indexer,col_indexer] = value instead\n",
            "\n",
            "See the caveats in the documentation: https://pandas.pydata.org/pandas-docs/stable/user_guide/indexing.html#returning-a-view-versus-a-copy\n",
            "  del sys.path[0]\n",
            "/usr/local/lib/python3.6/dist-packages/ipykernel_launcher.py:12: SettingWithCopyWarning: \n",
            "A value is trying to be set on a copy of a slice from a DataFrame.\n",
            "Try using .loc[row_indexer,col_indexer] = value instead\n",
            "\n",
            "See the caveats in the documentation: https://pandas.pydata.org/pandas-docs/stable/user_guide/indexing.html#returning-a-view-versus-a-copy\n",
            "  if sys.path[0] == '':\n",
            "/usr/local/lib/python3.6/dist-packages/ipykernel_launcher.py:13: SettingWithCopyWarning: \n",
            "A value is trying to be set on a copy of a slice from a DataFrame.\n",
            "Try using .loc[row_indexer,col_indexer] = value instead\n",
            "\n",
            "See the caveats in the documentation: https://pandas.pydata.org/pandas-docs/stable/user_guide/indexing.html#returning-a-view-versus-a-copy\n",
            "  del sys.path[0]\n",
            "/usr/local/lib/python3.6/dist-packages/ipykernel_launcher.py:12: SettingWithCopyWarning: \n",
            "A value is trying to be set on a copy of a slice from a DataFrame.\n",
            "Try using .loc[row_indexer,col_indexer] = value instead\n",
            "\n",
            "See the caveats in the documentation: https://pandas.pydata.org/pandas-docs/stable/user_guide/indexing.html#returning-a-view-versus-a-copy\n",
            "  if sys.path[0] == '':\n",
            "/usr/local/lib/python3.6/dist-packages/ipykernel_launcher.py:13: SettingWithCopyWarning: \n",
            "A value is trying to be set on a copy of a slice from a DataFrame.\n",
            "Try using .loc[row_indexer,col_indexer] = value instead\n",
            "\n",
            "See the caveats in the documentation: https://pandas.pydata.org/pandas-docs/stable/user_guide/indexing.html#returning-a-view-versus-a-copy\n",
            "  del sys.path[0]\n",
            "/usr/local/lib/python3.6/dist-packages/ipykernel_launcher.py:12: SettingWithCopyWarning: \n",
            "A value is trying to be set on a copy of a slice from a DataFrame.\n",
            "Try using .loc[row_indexer,col_indexer] = value instead\n",
            "\n",
            "See the caveats in the documentation: https://pandas.pydata.org/pandas-docs/stable/user_guide/indexing.html#returning-a-view-versus-a-copy\n",
            "  if sys.path[0] == '':\n",
            "/usr/local/lib/python3.6/dist-packages/ipykernel_launcher.py:13: SettingWithCopyWarning: \n",
            "A value is trying to be set on a copy of a slice from a DataFrame.\n",
            "Try using .loc[row_indexer,col_indexer] = value instead\n",
            "\n",
            "See the caveats in the documentation: https://pandas.pydata.org/pandas-docs/stable/user_guide/indexing.html#returning-a-view-versus-a-copy\n",
            "  del sys.path[0]\n",
            "/usr/local/lib/python3.6/dist-packages/ipykernel_launcher.py:12: SettingWithCopyWarning: \n",
            "A value is trying to be set on a copy of a slice from a DataFrame.\n",
            "Try using .loc[row_indexer,col_indexer] = value instead\n",
            "\n",
            "See the caveats in the documentation: https://pandas.pydata.org/pandas-docs/stable/user_guide/indexing.html#returning-a-view-versus-a-copy\n",
            "  if sys.path[0] == '':\n",
            "/usr/local/lib/python3.6/dist-packages/ipykernel_launcher.py:13: SettingWithCopyWarning: \n",
            "A value is trying to be set on a copy of a slice from a DataFrame.\n",
            "Try using .loc[row_indexer,col_indexer] = value instead\n",
            "\n",
            "See the caveats in the documentation: https://pandas.pydata.org/pandas-docs/stable/user_guide/indexing.html#returning-a-view-versus-a-copy\n",
            "  del sys.path[0]\n",
            "/usr/local/lib/python3.6/dist-packages/ipykernel_launcher.py:12: SettingWithCopyWarning: \n",
            "A value is trying to be set on a copy of a slice from a DataFrame.\n",
            "Try using .loc[row_indexer,col_indexer] = value instead\n",
            "\n",
            "See the caveats in the documentation: https://pandas.pydata.org/pandas-docs/stable/user_guide/indexing.html#returning-a-view-versus-a-copy\n",
            "  if sys.path[0] == '':\n",
            "/usr/local/lib/python3.6/dist-packages/ipykernel_launcher.py:13: SettingWithCopyWarning: \n",
            "A value is trying to be set on a copy of a slice from a DataFrame.\n",
            "Try using .loc[row_indexer,col_indexer] = value instead\n",
            "\n",
            "See the caveats in the documentation: https://pandas.pydata.org/pandas-docs/stable/user_guide/indexing.html#returning-a-view-versus-a-copy\n",
            "  del sys.path[0]\n"
          ],
          "name": "stderr"
        }
      ]
    },
    {
      "cell_type": "code",
      "metadata": {
        "colab": {
          "base_uri": "https://localhost:8080/",
          "height": 428
        },
        "id": "GeUDXHNWfFLl",
        "outputId": "758d671c-b702-4c7a-96c1-d4b785383585"
      },
      "source": [
        "df_val.tail()"
      ],
      "execution_count": 23,
      "outputs": [
        {
          "output_type": "execute_result",
          "data": {
            "text/html": [
              "<div>\n",
              "<style scoped>\n",
              "    .dataframe tbody tr th:only-of-type {\n",
              "        vertical-align: middle;\n",
              "    }\n",
              "\n",
              "    .dataframe tbody tr th {\n",
              "        vertical-align: top;\n",
              "    }\n",
              "\n",
              "    .dataframe thead th {\n",
              "        text-align: right;\n",
              "    }\n",
              "</style>\n",
              "<table border=\"1\" class=\"dataframe\">\n",
              "  <thead>\n",
              "    <tr style=\"text-align: right;\">\n",
              "      <th></th>\n",
              "      <th>Local time</th>\n",
              "      <th>Open</th>\n",
              "      <th>Close</th>\n",
              "      <th>High</th>\n",
              "      <th>Low</th>\n",
              "      <th>Volume_x</th>\n",
              "      <th>Volume_y</th>\n",
              "      <th>MA</th>\n",
              "      <th>Returns</th>\n",
              "      <th>BBand_upper</th>\n",
              "      <th>BBand_middle</th>\n",
              "      <th>BBand_lower</th>\n",
              "      <th>Average Directional Index</th>\n",
              "      <th>Directional Index</th>\n",
              "      <th>MACD</th>\n",
              "      <th>MACD_signal</th>\n",
              "      <th>MACD hist</th>\n",
              "      <th>stochastic k</th>\n",
              "      <th>stochastic d</th>\n",
              "      <th>movement</th>\n",
              "    </tr>\n",
              "  </thead>\n",
              "  <tbody>\n",
              "    <tr>\n",
              "      <th>92818</th>\n",
              "      <td>11.12.2020 15:55:00.000 GMT-0500</td>\n",
              "      <td>-0.010889</td>\n",
              "      <td>122.185</td>\n",
              "      <td>-0.011785</td>\n",
              "      <td>-0.010825</td>\n",
              "      <td>0.292769</td>\n",
              "      <td>0.304425</td>\n",
              "      <td>-0.013394</td>\n",
              "      <td>0.971103</td>\n",
              "      <td>0.044383</td>\n",
              "      <td>0.070090</td>\n",
              "      <td>0.326082</td>\n",
              "      <td>0.138746</td>\n",
              "      <td>0.196830</td>\n",
              "      <td>0.943951</td>\n",
              "      <td>0.943662</td>\n",
              "      <td>0.769829</td>\n",
              "      <td>0.570910</td>\n",
              "      <td>0.378162</td>\n",
              "      <td>0</td>\n",
              "    </tr>\n",
              "    <tr>\n",
              "      <th>92819</th>\n",
              "      <td>11.12.2020 15:56:00.000 GMT-0500</td>\n",
              "      <td>-0.010954</td>\n",
              "      <td>122.210</td>\n",
              "      <td>-0.011874</td>\n",
              "      <td>-0.010902</td>\n",
              "      <td>0.153018</td>\n",
              "      <td>0.147788</td>\n",
              "      <td>-0.013410</td>\n",
              "      <td>0.971103</td>\n",
              "      <td>0.044479</td>\n",
              "      <td>0.070199</td>\n",
              "      <td>0.326130</td>\n",
              "      <td>0.136073</td>\n",
              "      <td>0.150448</td>\n",
              "      <td>0.944056</td>\n",
              "      <td>0.943701</td>\n",
              "      <td>0.769962</td>\n",
              "      <td>0.832032</td>\n",
              "      <td>0.589005</td>\n",
              "      <td>0</td>\n",
              "    </tr>\n",
              "    <tr>\n",
              "      <th>92820</th>\n",
              "      <td>11.12.2020 15:57:00.000 GMT-0500</td>\n",
              "      <td>-0.010889</td>\n",
              "      <td>122.235</td>\n",
              "      <td>-0.011810</td>\n",
              "      <td>-0.010890</td>\n",
              "      <td>0.324469</td>\n",
              "      <td>0.343363</td>\n",
              "      <td>-0.013393</td>\n",
              "      <td>0.971658</td>\n",
              "      <td>0.044522</td>\n",
              "      <td>0.070311</td>\n",
              "      <td>0.326245</td>\n",
              "      <td>0.135980</td>\n",
              "      <td>0.179121</td>\n",
              "      <td>0.944158</td>\n",
              "      <td>0.943755</td>\n",
              "      <td>0.770062</td>\n",
              "      <td>0.839690</td>\n",
              "      <td>0.754837</td>\n",
              "      <td>1</td>\n",
              "    </tr>\n",
              "    <tr>\n",
              "      <th>92821</th>\n",
              "      <td>11.12.2020 15:58:00.000 GMT-0500</td>\n",
              "      <td>-0.010825</td>\n",
              "      <td>122.230</td>\n",
              "      <td>-0.011784</td>\n",
              "      <td>-0.010865</td>\n",
              "      <td>0.361204</td>\n",
              "      <td>0.387611</td>\n",
              "      <td>-0.013370</td>\n",
              "      <td>0.971733</td>\n",
              "      <td>0.044274</td>\n",
              "      <td>0.070409</td>\n",
              "      <td>0.326669</td>\n",
              "      <td>0.136874</td>\n",
              "      <td>0.190892</td>\n",
              "      <td>0.944233</td>\n",
              "      <td>0.943815</td>\n",
              "      <td>0.770104</td>\n",
              "      <td>0.874152</td>\n",
              "      <td>0.857092</td>\n",
              "      <td>1</td>\n",
              "    </tr>\n",
              "    <tr>\n",
              "      <th>92822</th>\n",
              "      <td>11.12.2020 15:59:00.000 GMT-0500</td>\n",
              "      <td>-0.010851</td>\n",
              "      <td>122.455</td>\n",
              "      <td>-0.011219</td>\n",
              "      <td>-0.010683</td>\n",
              "      <td>0.712477</td>\n",
              "      <td>0.765929</td>\n",
              "      <td>-0.013285</td>\n",
              "      <td>0.972752</td>\n",
              "      <td>0.044603</td>\n",
              "      <td>0.070547</td>\n",
              "      <td>0.326496</td>\n",
              "      <td>0.154827</td>\n",
              "      <td>0.396480</td>\n",
              "      <td>0.944453</td>\n",
              "      <td>0.943914</td>\n",
              "      <td>0.770354</td>\n",
              "      <td>0.908502</td>\n",
              "      <td>0.882878</td>\n",
              "      <td>1</td>\n",
              "    </tr>\n",
              "  </tbody>\n",
              "</table>\n",
              "</div>"
            ],
            "text/plain": [
              "                             Local time      Open  ...  stochastic d  movement\n",
              "92818  11.12.2020 15:55:00.000 GMT-0500 -0.010889  ...      0.378162         0\n",
              "92819  11.12.2020 15:56:00.000 GMT-0500 -0.010954  ...      0.589005         0\n",
              "92820  11.12.2020 15:57:00.000 GMT-0500 -0.010889  ...      0.754837         1\n",
              "92821  11.12.2020 15:58:00.000 GMT-0500 -0.010825  ...      0.857092         1\n",
              "92822  11.12.2020 15:59:00.000 GMT-0500 -0.010851  ...      0.882878         1\n",
              "\n",
              "[5 rows x 20 columns]"
            ]
          },
          "metadata": {
            "tags": []
          },
          "execution_count": 23
        }
      ]
    },
    {
      "cell_type": "code",
      "metadata": {
        "colab": {
          "base_uri": "https://localhost:8080/"
        },
        "id": "SRA8Z4xx4_-W",
        "outputId": "04e05c88-febc-4b9c-f29e-df7336ae9759"
      },
      "source": [
        "from tensorflow.keras.utils import to_categorical\r\n",
        "\r\n",
        "Y_train = df_train['movement']\r\n",
        "Y_val = df_val['movement']\r\n",
        "\r\n",
        "print(len(Y_train[Y_train == 1]), len(Y_train[Y_train == 0]))\r\n",
        "print(len(Y_val[Y_val == 1]), len(Y_val[Y_val == 0]))\r\n",
        "\r\n",
        "Y_train = to_categorical(Y_train, 2)\r\n",
        "Y_val = to_categorical(Y_val, 2)"
      ],
      "execution_count": 24,
      "outputs": [
        {
          "output_type": "stream",
          "text": [
            "34142 30834\n",
            "14208 13639\n"
          ],
          "name": "stdout"
        }
      ]
    },
    {
      "cell_type": "code",
      "metadata": {
        "id": "Bo-X4x6eg6m2"
      },
      "source": [
        "def convert_raw_samples_to_model_samples(scd_log_rtns, movements, window_size):\r\n",
        "    X, y = [], []\r\n",
        "    len_log_rtns = len(scd_log_rtns)\r\n",
        "    for i in range(window_size, len_log_rtns):\r\n",
        "        X.append(scd_log_rtns[i-window_size:i])\r\n",
        "        y.append(movements[i])\r\n",
        "    X, y = np.asarray(X), np.asarray(y)\r\n",
        "    #X = np.reshape(X, (X.shape[0], X.shape[1], 1))\r\n",
        "    return X, y\r\n",
        "\r\n",
        "def reshape_by_level(input_array, level):\r\n",
        "  out_array = input_array.reshape(-1,1)[::level]\r\n",
        "  orig_input_len = len(input_array)\r\n",
        "  mod = len(out_array) % orig_input_len\r\n",
        "  out_array = out_array[:len(out_array)-mod].reshape((orig_input_len,-1))\r\n",
        "\r\n",
        "  return out_array"
      ],
      "execution_count": 25,
      "outputs": []
    },
    {
      "cell_type": "code",
      "metadata": {
        "id": "i4EvlI1BhCBy"
      },
      "source": [
        "df_train = df_train.dropna()\r\n",
        "df_train.index = np.arange(0,len(df_train))\r\n",
        "df_val.index = np.arange(0,len(df_val))\r\n",
        "\r\n",
        "df_train = df_train[feature_columns]\r\n",
        "df_val  = df_val[feature_columns]"
      ],
      "execution_count": 26,
      "outputs": []
    },
    {
      "cell_type": "code",
      "metadata": {
        "id": "Fa97EzMkgaKp"
      },
      "source": [
        "window_size = 256\r\n",
        "X_train, y_train = convert_raw_samples_to_model_samples(df_train, Y_train, window_size)\r\n",
        "X_val, y_val = convert_raw_samples_to_model_samples(df_val, Y_val, window_size)\r\n",
        "#X_test, y_test = convert_raw_samples_to_model_samples(test_values, test_y_values, window_size)"
      ],
      "execution_count": 27,
      "outputs": []
    },
    {
      "cell_type": "markdown",
      "metadata": {
        "id": "xCyN9W-JskJc"
      },
      "source": [
        "## Embedding\r\n",
        "\r\n",
        "Reference: [paper](https://arxiv.org/pdf/1907.05321.pdf), [code](https://github.com/JanSchm/CapMarket)"
      ]
    },
    {
      "cell_type": "code",
      "metadata": {
        "id": "N3BrNq26sjO2"
      },
      "source": [
        "class Time2Vector(Layer):\r\n",
        "  def __init__(self, seq_len, **kwargs):\r\n",
        "    super(Time2Vector, self).__init__()\r\n",
        "    self.seq_len = seq_len\r\n",
        "\r\n",
        "  def build(self, input_shape):\r\n",
        "    '''Initialize weights and biases with shape (batch, seq_len)'''\r\n",
        "    self.weights_linear = self.add_weight(name='weight_linear',\r\n",
        "                                shape=(int(self.seq_len),),\r\n",
        "                                initializer='uniform',\r\n",
        "                                trainable=True)\r\n",
        "    \r\n",
        "    self.bias_linear = self.add_weight(name='bias_linear',\r\n",
        "                                shape=(int(self.seq_len),),\r\n",
        "                                initializer='uniform',\r\n",
        "                                trainable=True)\r\n",
        "    \r\n",
        "    self.weights_periodic = self.add_weight(name='weight_periodic',\r\n",
        "                                shape=(int(self.seq_len),),\r\n",
        "                                initializer='uniform',\r\n",
        "                                trainable=True)\r\n",
        "\r\n",
        "    self.bias_periodic = self.add_weight(name='bias_periodic',\r\n",
        "                                shape=(int(self.seq_len),),\r\n",
        "                                initializer='uniform',\r\n",
        "                                trainable=True)\r\n",
        "\r\n",
        "  def call(self, x):\r\n",
        "    '''Calculate linear and periodic time features'''\r\n",
        "    x = tf.math.reduce_mean(x[:,:,:4], axis=-1) \r\n",
        "    time_linear = self.weights_linear * x + self.bias_linear # Linear time feature\r\n",
        "    time_linear = tf.expand_dims(time_linear, axis=-1) # Add dimension (batch, seq_len, 1)\r\n",
        "    \r\n",
        "    time_periodic = tf.math.sin(tf.multiply(x, self.weights_periodic) + self.bias_periodic)\r\n",
        "    time_periodic = tf.expand_dims(time_periodic, axis=-1) # Add dimension (batch, seq_len, 1)\r\n",
        "    return tf.concat([time_linear, time_periodic], axis=-1) # shape = (batch, seq_len, 2)\r\n",
        "   \r\n",
        "  def get_config(self): # Needed for saving and loading model with custom layer\r\n",
        "    config = super().get_config().copy()\r\n",
        "    config.update({'seq_len': self.seq_len})\r\n",
        "    return config"
      ],
      "execution_count": 28,
      "outputs": []
    },
    {
      "cell_type": "code",
      "metadata": {
        "id": "3hEp0FE1xCwh"
      },
      "source": [
        "from keras import backend as K\r\n",
        "\r\n",
        "def recall_m(y_true, y_pred):\r\n",
        "    true_positives = K.sum(K.round(K.clip(y_true * y_pred, 0, 1)))\r\n",
        "    possible_positives = K.sum(K.round(K.clip(y_true, 0, 1)))\r\n",
        "    recall = true_positives / (possible_positives + K.epsilon())\r\n",
        "    return recall\r\n",
        "\r\n",
        "def precision_m(y_true, y_pred):\r\n",
        "    true_positives = K.sum(K.round(K.clip(y_true * y_pred, 0, 1)))\r\n",
        "    predicted_positives = K.sum(K.round(K.clip(y_pred, 0, 1)))\r\n",
        "    precision = true_positives / (predicted_positives + K.epsilon())\r\n",
        "    return precision\r\n",
        "\r\n",
        "def f1_m(y_true, y_pred):\r\n",
        "    precision = precision_m(y_true, y_pred)\r\n",
        "    recall = recall_m(y_true, y_pred)\r\n",
        "    return 2*((precision*recall)/(precision+recall+K.epsilon()))\r\n"
      ],
      "execution_count": 29,
      "outputs": []
    },
    {
      "cell_type": "code",
      "metadata": {
        "id": "RXzPS86cQVTC"
      },
      "source": [
        "\r\n",
        "# -*- coding: utf-8 -*-\r\n",
        "\"\"\"Confusion matrix.ipynb\r\n",
        "\r\n",
        "Automatically generated by Colaboratory.\r\n",
        "\r\n",
        "Original file is located at\r\n",
        "    https://colab.research.google.com/drive/1dbeSXmnx5b6mUMXXYMlYVw-V20-fDdPc\r\n",
        "\"\"\"\r\n",
        "\r\n",
        "def plot_confusion_matrix(cm,\r\n",
        "                          target_names,\r\n",
        "                          title='Confusion matrix',\r\n",
        "                          cmap=None,\r\n",
        "                          normalize=True):\r\n",
        "    \"\"\"\r\n",
        "    given a sklearn confusion matrix (cm), make a nice plot\r\n",
        "\r\n",
        "    Arguments\r\n",
        "    ---------\r\n",
        "    cm:           confusion matrix from sklearn.metrics.confusion_matrix\r\n",
        "\r\n",
        "    target_names: given classification classes such as [0, 1, 2]\r\n",
        "                  the class names, for example: ['high', 'medium', 'low']\r\n",
        "\r\n",
        "    title:        the text to display at the top of the matrix\r\n",
        "\r\n",
        "    cmap:         the gradient of the values displayed from matplotlib.pyplot.cm\r\n",
        "                  see http://matplotlib.org/examples/color/colormaps_reference.html\r\n",
        "                  plt.get_cmap('jet') or plt.cm.Blues\r\n",
        "\r\n",
        "    normalize:    If False, plot the raw numbers\r\n",
        "                  If True, plot the proportions\r\n",
        "\r\n",
        "    Usage\r\n",
        "    -----\r\n",
        "    plot_confusion_matrix(cm           = cm,                  # confusion matrix created by\r\n",
        "                                                              # sklearn.metrics.confusion_matrix\r\n",
        "                          normalize    = True,                # show proportions\r\n",
        "                          target_names = y_labels_vals,       # list of names of the classes\r\n",
        "                          title        = best_estimator_name) # title of graph\r\n",
        "\r\n",
        "    Citiation\r\n",
        "    ---------\r\n",
        "    http://scikit-learn.org/stable/auto_examples/model_selection/plot_confusion_matrix.html\r\n",
        "\r\n",
        "    \"\"\"\r\n",
        "    import matplotlib.pyplot as plt\r\n",
        "    import numpy as np\r\n",
        "    import itertools\r\n",
        "\r\n",
        "    accuracy = np.trace(cm) / np.sum(cm).astype('float')\r\n",
        "    misclass = 1 - accuracy\r\n",
        "\r\n",
        "    if cmap is None:\r\n",
        "        cmap = plt.get_cmap('Blues')\r\n",
        "\r\n",
        "    plt.figure(figsize=(8, 6))\r\n",
        "    plt.imshow(cm, interpolation='nearest', cmap=cmap)\r\n",
        "    plt.title(title)\r\n",
        "    plt.colorbar()\r\n",
        "\r\n",
        "    if target_names is not None:\r\n",
        "        tick_marks = np.arange(len(target_names))\r\n",
        "        plt.xticks(tick_marks, target_names, rotation=45)\r\n",
        "        plt.yticks(tick_marks, target_names)\r\n",
        "\r\n",
        "    if normalize:\r\n",
        "        cm = cm.astype('float') / cm.sum(axis=1)[:, np.newaxis]\r\n",
        "\r\n",
        "\r\n",
        "    thresh = cm.max() / 1.5 if normalize else cm.max() / 2\r\n",
        "    for i, j in itertools.product(range(cm.shape[0]), range(cm.shape[1])):\r\n",
        "        if normalize:\r\n",
        "            plt.text(j, i, \"{:0.4f}\".format(cm[i, j]),\r\n",
        "                     horizontalalignment=\"center\",\r\n",
        "                     color=\"white\" if cm[i, j] > thresh else \"black\")\r\n",
        "        else:\r\n",
        "            plt.text(j, i, \"{:,}\".format(cm[i, j]),\r\n",
        "                     horizontalalignment=\"center\",\r\n",
        "                     color=\"white\" if cm[i, j] > thresh else \"black\")\r\n",
        "\r\n",
        "\r\n",
        "    plt.tight_layout()\r\n",
        "    plt.ylabel('True label')\r\n",
        "    plt.xlabel('Predicted label\\naccuracy={:0.4f}; misclass={:0.4f}'.format(accuracy, misclass))\r\n",
        "    plt.show()"
      ],
      "execution_count": 30,
      "outputs": []
    },
    {
      "cell_type": "markdown",
      "metadata": {
        "id": "OHrZ1HOSs9S0"
      },
      "source": [
        "## Model"
      ]
    },
    {
      "cell_type": "markdown",
      "metadata": {
        "id": "vCFm0sQISUvw"
      },
      "source": [
        "##LSTM "
      ]
    },
    {
      "cell_type": "code",
      "metadata": {
        "id": "0EMk7zEpoXhk"
      },
      "source": [
        "\r\n",
        "# compile the model\r\n",
        "#model.compile(optimizer='adam', loss='binary_crossentropy', metrics=['acc',f1_m,precision_m, recall_m])\r\n",
        "\r\n",
        "# fit the model\r\n",
        "#history = model.fit(Xtrain, ytrain, validation_split=0.3, epochs=10, verbose=0)\r\n",
        "\r\n",
        "\r\n",
        "def create_LSTM(X, classification, embedding):\r\n",
        "  if len(X.shape) == 2:\r\n",
        "    X = np.reshape(X, (X.shape[0], X.shape[1], 1))\r\n",
        "  input_seq = Input(shape = (X.shape[1], X.shape[2]))\r\n",
        "\r\n",
        "  if embedding:\r\n",
        "    time_embedding = Time2Vector(X.shape[1])\r\n",
        "    x = time_embedding(input_seq)\r\n",
        "    x = Concatenate(axis=-1)([input_seq, x])\r\n",
        "    x = LSTM(64, return_sequences= False)(x)\r\n",
        "  else:\r\n",
        "    x = LSTM(64, return_sequences= False)(input_seq)\r\n",
        "  \r\n",
        "  if classification:\r\n",
        "    x = Dropout(0.1)(x)\r\n",
        "    x = Dense(128, activation = 'relu')(x)\r\n",
        "    #out = Dense(1, activation = 'softmax')(x)\r\n",
        "    out = Dense(2, activation=\"softmax\", name=\"output\")(x)\r\n",
        "    model = Model(inputs = input_seq, outputs = out)\r\n",
        "    model.compile(loss = 'categorical_crossentropy', optimizer = tf.keras.optimizers.Adam(1e-5), metrics = ['acc',f1_m,precision_m, recall_m])\r\n",
        "  else:\r\n",
        "    x = Dropout(0.1)(x)\r\n",
        "    out = Dense(1)(x)\r\n",
        "    model = Model(inputs = input_seq, outputs = out)\r\n",
        "    model.compile(loss = 'mse', optimizer = tf.keras.optimizers.Adam(1e-5), metrics = ['mae', 'mape'])\r\n",
        "  \r\n",
        "  return model"
      ],
      "execution_count": 31,
      "outputs": []
    },
    {
      "cell_type": "code",
      "metadata": {
        "id": "5xnNA7ihpFtL"
      },
      "source": [
        "#With Time Embedding\r\n",
        "model_w_timeembedding = create_LSTM(X_train, True, True)"
      ],
      "execution_count": 46,
      "outputs": []
    },
    {
      "cell_type": "code",
      "metadata": {
        "colab": {
          "base_uri": "https://localhost:8080/"
        },
        "id": "a3UhMdFqrxd_",
        "outputId": "0e5a126d-bfe9-4040-d48e-960df7d22271"
      },
      "source": [
        "model_w_timeembedding.summary()"
      ],
      "execution_count": 47,
      "outputs": [
        {
          "output_type": "stream",
          "text": [
            "Model: \"model_2\"\n",
            "__________________________________________________________________________________________________\n",
            "Layer (type)                    Output Shape         Param #     Connected to                     \n",
            "==================================================================================================\n",
            "input_3 (InputLayer)            [(None, 256, 17)]    0                                            \n",
            "__________________________________________________________________________________________________\n",
            "time2_vector_2 (Time2Vector)    (None, 256, 2)       1024        input_3[0][0]                    \n",
            "__________________________________________________________________________________________________\n",
            "concatenate_2 (Concatenate)     (None, 256, 19)      0           input_3[0][0]                    \n",
            "                                                                 time2_vector_2[0][0]             \n",
            "__________________________________________________________________________________________________\n",
            "lstm_2 (LSTM)                   (None, 64)           21504       concatenate_2[0][0]              \n",
            "__________________________________________________________________________________________________\n",
            "dropout_2 (Dropout)             (None, 64)           0           lstm_2[0][0]                     \n",
            "__________________________________________________________________________________________________\n",
            "dense_2 (Dense)                 (None, 128)          8320        dropout_2[0][0]                  \n",
            "__________________________________________________________________________________________________\n",
            "output (Dense)                  (None, 2)            258         dense_2[0][0]                    \n",
            "==================================================================================================\n",
            "Total params: 31,106\n",
            "Trainable params: 31,106\n",
            "Non-trainable params: 0\n",
            "__________________________________________________________________________________________________\n"
          ],
          "name": "stdout"
        }
      ]
    },
    {
      "cell_type": "code",
      "metadata": {
        "colab": {
          "base_uri": "https://localhost:8080/"
        },
        "id": "dheP5BvVpKXy",
        "outputId": "f882fbd6-a3f9-426b-9f73-4aef7dcb65a9"
      },
      "source": [
        "from sklearn.utils import compute_class_weight\r\n",
        "##classWeight = compute_class_weight('balanced', outputLabels, outputs) \r\n",
        "#classWeight = dict(enumerate(classWeight))\r\n",
        "#model.fit(X_train, y_train, batch_size = batch_size, nb_epoch = nb_epochs, show_accuracy = True, verbose = 2, validation_data = (X_test, y_test), class_weight=classWeight)\r\n",
        "history = model_w_timeembedding.fit(X_train, y_train,epochs=5,  validation_data=(X_val, y_val))"
      ],
      "execution_count": 48,
      "outputs": [
        {
          "output_type": "stream",
          "text": [
            "Epoch 1/5\n",
            "2023/2023 [==============================] - 32s 15ms/step - loss: 0.6661 - acc: 0.6315 - f1_m: 0.6315 - precision_m: 0.6315 - recall_m: 0.6315 - val_loss: 0.5705 - val_acc: 0.7400 - val_f1_m: 0.7401 - val_precision_m: 0.7401 - val_recall_m: 0.7401\n",
            "Epoch 2/5\n",
            "2023/2023 [==============================] - 29s 14ms/step - loss: 0.4931 - acc: 0.7921 - f1_m: 0.7921 - precision_m: 0.7921 - recall_m: 0.7921 - val_loss: 0.4667 - val_acc: 0.7834 - val_f1_m: 0.7835 - val_precision_m: 0.7835 - val_recall_m: 0.7835\n",
            "Epoch 3/5\n",
            "2023/2023 [==============================] - 29s 14ms/step - loss: 0.4166 - acc: 0.8115 - f1_m: 0.8115 - precision_m: 0.8115 - recall_m: 0.8115 - val_loss: 0.4502 - val_acc: 0.7843 - val_f1_m: 0.7843 - val_precision_m: 0.7843 - val_recall_m: 0.7843\n",
            "Epoch 4/5\n",
            "2023/2023 [==============================] - 30s 15ms/step - loss: 0.4057 - acc: 0.8109 - f1_m: 0.8109 - precision_m: 0.8109 - recall_m: 0.8109 - val_loss: 0.4407 - val_acc: 0.7887 - val_f1_m: 0.7887 - val_precision_m: 0.7887 - val_recall_m: 0.7887\n",
            "Epoch 5/5\n",
            "2023/2023 [==============================] - 29s 14ms/step - loss: 0.4018 - acc: 0.8122 - f1_m: 0.8122 - precision_m: 0.8122 - recall_m: 0.8122 - val_loss: 0.4525 - val_acc: 0.7802 - val_f1_m: 0.7803 - val_precision_m: 0.7803 - val_recall_m: 0.7803\n"
          ],
          "name": "stdout"
        }
      ]
    },
    {
      "cell_type": "code",
      "metadata": {
        "colab": {
          "base_uri": "https://localhost:8080/"
        },
        "id": "eWukO8sl3rLL",
        "outputId": "9fa5aa06-6130-495f-94ee-b41d0470a446"
      },
      "source": [
        "y_pred = model_w_timeembedding.predict(X_val)\r\n",
        "y_pred = [y_pred[i].argmax() for i in range(len(y_pred))]\r\n",
        "print(set(y_pred))\r\n",
        "\r\n",
        "num =[0,0]\r\n",
        "for i in range(len(y_pred)):\r\n",
        "  num[y_pred[i]] += 1 \r\n",
        "\r\n",
        "print(num)\r\n",
        "\r\n",
        "y_true =  [y_val[i].argmax() for i in range(len(y_val))]\r\n",
        "num =[0,0]\r\n",
        "for i in range(len(y_true)):\r\n",
        "  num[y_true[i]] += 1 \r\n",
        "print(num)"
      ],
      "execution_count": 49,
      "outputs": [
        {
          "output_type": "stream",
          "text": [
            "{0, 1}\n",
            "[9392, 18199]\n",
            "[13524, 14067]\n"
          ],
          "name": "stdout"
        }
      ]
    },
    {
      "cell_type": "code",
      "metadata": {
        "colab": {
          "base_uri": "https://localhost:8080/"
        },
        "id": "F7u-e-BiutSN",
        "outputId": "fbf2e6aa-4ec9-4106-cc29-098a62bbd293"
      },
      "source": [
        "len(y_pred)"
      ],
      "execution_count": 50,
      "outputs": [
        {
          "output_type": "execute_result",
          "data": {
            "text/plain": [
              "27591"
            ]
          },
          "metadata": {
            "tags": []
          },
          "execution_count": 50
        }
      ]
    },
    {
      "cell_type": "code",
      "metadata": {
        "colab": {
          "base_uri": "https://localhost:8080/",
          "height": 417
        },
        "id": "vrexF7ZSwAyP",
        "outputId": "cc2cd7ea-feee-4727-9fff-6fff01482890"
      },
      "source": [
        "df_export = pd.DataFrame(y_pred)\r\n",
        "df_export.columns = ['with time emebdding']\r\n",
        "df_export"
      ],
      "execution_count": 62,
      "outputs": [
        {
          "output_type": "execute_result",
          "data": {
            "text/html": [
              "<div>\n",
              "<style scoped>\n",
              "    .dataframe tbody tr th:only-of-type {\n",
              "        vertical-align: middle;\n",
              "    }\n",
              "\n",
              "    .dataframe tbody tr th {\n",
              "        vertical-align: top;\n",
              "    }\n",
              "\n",
              "    .dataframe thead th {\n",
              "        text-align: right;\n",
              "    }\n",
              "</style>\n",
              "<table border=\"1\" class=\"dataframe\">\n",
              "  <thead>\n",
              "    <tr style=\"text-align: right;\">\n",
              "      <th></th>\n",
              "      <th>with time emebdding</th>\n",
              "    </tr>\n",
              "  </thead>\n",
              "  <tbody>\n",
              "    <tr>\n",
              "      <th>0</th>\n",
              "      <td>1</td>\n",
              "    </tr>\n",
              "    <tr>\n",
              "      <th>1</th>\n",
              "      <td>1</td>\n",
              "    </tr>\n",
              "    <tr>\n",
              "      <th>2</th>\n",
              "      <td>1</td>\n",
              "    </tr>\n",
              "    <tr>\n",
              "      <th>3</th>\n",
              "      <td>1</td>\n",
              "    </tr>\n",
              "    <tr>\n",
              "      <th>4</th>\n",
              "      <td>1</td>\n",
              "    </tr>\n",
              "    <tr>\n",
              "      <th>...</th>\n",
              "      <td>...</td>\n",
              "    </tr>\n",
              "    <tr>\n",
              "      <th>27586</th>\n",
              "      <td>0</td>\n",
              "    </tr>\n",
              "    <tr>\n",
              "      <th>27587</th>\n",
              "      <td>0</td>\n",
              "    </tr>\n",
              "    <tr>\n",
              "      <th>27588</th>\n",
              "      <td>0</td>\n",
              "    </tr>\n",
              "    <tr>\n",
              "      <th>27589</th>\n",
              "      <td>1</td>\n",
              "    </tr>\n",
              "    <tr>\n",
              "      <th>27590</th>\n",
              "      <td>1</td>\n",
              "    </tr>\n",
              "  </tbody>\n",
              "</table>\n",
              "<p>27591 rows × 1 columns</p>\n",
              "</div>"
            ],
            "text/plain": [
              "       with time emebdding\n",
              "0                        1\n",
              "1                        1\n",
              "2                        1\n",
              "3                        1\n",
              "4                        1\n",
              "...                    ...\n",
              "27586                    0\n",
              "27587                    0\n",
              "27588                    0\n",
              "27589                    1\n",
              "27590                    1\n",
              "\n",
              "[27591 rows x 1 columns]"
            ]
          },
          "metadata": {
            "tags": []
          },
          "execution_count": 62
        }
      ]
    },
    {
      "cell_type": "code",
      "metadata": {
        "id": "w322SpFHxKAV"
      },
      "source": [
        "df_export['without time embedding'] = y_pred_wo_timeembedding\r\n",
        "df_export.to_csv('/content/drive/MyDrive/ADL_Final/LSTM_prediction.csv')"
      ],
      "execution_count": 64,
      "outputs": []
    },
    {
      "cell_type": "code",
      "metadata": {
        "colab": {
          "base_uri": "https://localhost:8080/"
        },
        "id": "M5UfObT3QKg5",
        "outputId": "ccd575a0-561f-4dd0-83a5-18756f5dff3e"
      },
      "source": [
        "\r\n",
        "from sklearn.metrics import classification_report\r\n",
        "\r\n",
        "print(classification_report(y_true, y_pred))"
      ],
      "execution_count": 55,
      "outputs": [
        {
          "output_type": "stream",
          "text": [
            "              precision    recall  f1-score   support\n",
            "\n",
            "           0       0.90      0.62      0.74     13524\n",
            "           1       0.72      0.93      0.81     14067\n",
            "\n",
            "    accuracy                           0.78     27591\n",
            "   macro avg       0.81      0.78      0.77     27591\n",
            "weighted avg       0.81      0.78      0.77     27591\n",
            "\n"
          ],
          "name": "stdout"
        }
      ]
    },
    {
      "cell_type": "code",
      "metadata": {
        "colab": {
          "base_uri": "https://localhost:8080/",
          "height": 467
        },
        "id": "IgfJP6qTQSLY",
        "outputId": "2539b50a-90d9-474a-938a-040378d07052"
      },
      "source": [
        "from sklearn.metrics import confusion_matrix\r\n",
        "\r\n",
        "cm = confusion_matrix(y_true, y_pred)\r\n",
        "plot_confusion_matrix(cm,\r\n",
        "                      ['upward','downward'],\r\n",
        "                      title='Confusion matrix',\r\n",
        "                      cmap=None,\r\n",
        "                      normalize=True)"
      ],
      "execution_count": 56,
      "outputs": [
        {
          "output_type": "display_data",
          "data": {
            "image/png": "[encoded data removed]",
            "text/plain": [
              "<Figure size 576x432 with 2 Axes>"
            ]
          },
          "metadata": {
            "tags": [],
            "needs_background": "light"
          }
        }
      ]
    },
    {
      "cell_type": "code",
      "metadata": {
        "colab": {
          "base_uri": "https://localhost:8080/"
        },
        "id": "2MkCkd1zQXED",
        "outputId": "83608007-47df-4a3e-a47b-e2419b989fe5"
      },
      "source": [
        "#Without Time Embedding\r\n",
        "model_wo_timeembedding = create_LSTM(X_train, True, False)\r\n",
        "model_wo_timeembedding.summary()"
      ],
      "execution_count": 57,
      "outputs": [
        {
          "output_type": "stream",
          "text": [
            "Model: \"model_3\"\n",
            "_________________________________________________________________\n",
            "Layer (type)                 Output Shape              Param #   \n",
            "=================================================================\n",
            "input_4 (InputLayer)         [(None, 256, 17)]         0         \n",
            "_________________________________________________________________\n",
            "lstm_3 (LSTM)                (None, 64)                20992     \n",
            "_________________________________________________________________\n",
            "dropout_3 (Dropout)          (None, 64)                0         \n",
            "_________________________________________________________________\n",
            "dense_3 (Dense)              (None, 128)               8320      \n",
            "_________________________________________________________________\n",
            "output (Dense)               (None, 2)                 258       \n",
            "=================================================================\n",
            "Total params: 29,570\n",
            "Trainable params: 29,570\n",
            "Non-trainable params: 0\n",
            "_________________________________________________________________\n"
          ],
          "name": "stdout"
        }
      ]
    },
    {
      "cell_type": "code",
      "metadata": {
        "colab": {
          "base_uri": "https://localhost:8080/"
        },
        "id": "890YMIPKQg1X",
        "outputId": "f41691c6-585f-412f-a846-798d2967e110"
      },
      "source": [
        "history = model_wo_timeembedding.fit(X_train, y_train,epochs=5,  validation_data=(X_val, y_val))"
      ],
      "execution_count": 58,
      "outputs": [
        {
          "output_type": "stream",
          "text": [
            "Epoch 1/5\n",
            "2023/2023 [==============================] - 34s 16ms/step - loss: 0.6577 - acc: 0.6268 - f1_m: 0.6268 - precision_m: 0.6268 - recall_m: 0.6268 - val_loss: 0.5668 - val_acc: 0.7131 - val_f1_m: 0.7129 - val_precision_m: 0.7129 - val_recall_m: 0.7129\n",
            "Epoch 2/5\n",
            "2023/2023 [==============================] - 32s 16ms/step - loss: 0.4863 - acc: 0.7935 - f1_m: 0.7935 - precision_m: 0.7935 - recall_m: 0.7935 - val_loss: 0.4883 - val_acc: 0.7584 - val_f1_m: 0.7585 - val_precision_m: 0.7585 - val_recall_m: 0.7585\n",
            "Epoch 3/5\n",
            "2023/2023 [==============================] - 32s 16ms/step - loss: 0.4208 - acc: 0.8086 - f1_m: 0.8086 - precision_m: 0.8086 - recall_m: 0.8086 - val_loss: 0.4658 - val_acc: 0.7698 - val_f1_m: 0.7699 - val_precision_m: 0.7699 - val_recall_m: 0.7699\n",
            "Epoch 4/5\n",
            "2023/2023 [==============================] - 33s 16ms/step - loss: 0.4052 - acc: 0.8141 - f1_m: 0.8141 - precision_m: 0.8141 - recall_m: 0.8141 - val_loss: 0.4418 - val_acc: 0.7867 - val_f1_m: 0.7868 - val_precision_m: 0.7868 - val_recall_m: 0.7868\n",
            "Epoch 5/5\n",
            "2023/2023 [==============================] - 32s 16ms/step - loss: 0.4045 - acc: 0.8120 - f1_m: 0.8120 - precision_m: 0.8120 - recall_m: 0.8120 - val_loss: 0.4412 - val_acc: 0.7865 - val_f1_m: 0.7866 - val_precision_m: 0.7866 - val_recall_m: 0.7866\n"
          ],
          "name": "stdout"
        }
      ]
    },
    {
      "cell_type": "code",
      "metadata": {
        "colab": {
          "base_uri": "https://localhost:8080/"
        },
        "id": "2I7A3eIPQirV",
        "outputId": "d8e0678e-6ed6-4c58-9c30-23475de630f1"
      },
      "source": [
        "y_pred_wo_timeembedding = model_wo_timeembedding.predict(X_val)\r\n",
        "y_pred_wo_timeembedding = [y_pred_wo_timeembedding[i].argmax() for i in range(len(y_pred_wo_timeembedding))]\r\n",
        "print(set(y_pred))\r\n",
        "\r\n",
        "num =[0,0]\r\n",
        "for i in range(len(y_pred_wo_timeembedding)):\r\n",
        "  num[y_pred_wo_timeembedding[i]] += 1 \r\n",
        "\r\n",
        "print(num)\r\n",
        "\r\n",
        "y_true =  [y_val[i].argmax() for i in range(len(y_val))]\r\n",
        "num =[0,0]\r\n",
        "for i in range(len(y_true)):\r\n",
        "  num[y_true[i]] += 1 \r\n",
        "print(num)\r\n",
        "\r\n",
        "print(classification_report(y_true, y_pred))"
      ],
      "execution_count": 59,
      "outputs": [
        {
          "output_type": "stream",
          "text": [
            "{0, 1}\n",
            "[9883, 17708]\n",
            "[13524, 14067]\n",
            "              precision    recall  f1-score   support\n",
            "\n",
            "           0       0.90      0.62      0.74     13524\n",
            "           1       0.72      0.93      0.81     14067\n",
            "\n",
            "    accuracy                           0.78     27591\n",
            "   macro avg       0.81      0.78      0.77     27591\n",
            "weighted avg       0.81      0.78      0.77     27591\n",
            "\n"
          ],
          "name": "stdout"
        }
      ]
    },
    {
      "cell_type": "code",
      "metadata": {
        "colab": {
          "base_uri": "https://localhost:8080/",
          "height": 467
        },
        "id": "U5RQHGwZQp02",
        "outputId": "4d96fe1a-db39-46c4-becc-5f4314982b55"
      },
      "source": [
        "cm = confusion_matrix(y_true, y_pred)\r\n",
        "plot_confusion_matrix(cm,\r\n",
        "                      ['upward','downward'],\r\n",
        "                      title='Confusion matrix',\r\n",
        "                      cmap=None,\r\n",
        "                      normalize=True)"
      ],
      "execution_count": 68,
      "outputs": [
        {
          "output_type": "display_data",
          "data": {
            "image/png": "[encoded data removed]",
            "text/plain": [
              "<Figure size 576x432 with 2 Axes>"
            ]
          },
          "metadata": {
            "tags": [],
            "needs_background": "light"
          }
        }
      ]
    },
    {
      "cell_type": "markdown",
      "metadata": {
        "id": "vci5XKZ1Q_PG"
      },
      "source": [
        "## LSTM with Attention"
      ]
    },
    {
      "cell_type": "code",
      "metadata": {
        "id": "O8Y3uRaWF62N"
      },
      "source": [
        "class Attention(tf.keras.Model):\r\n",
        "    def __init__(self, units):\r\n",
        "        super(Attention, self).__init__()\r\n",
        "        self.W1 = tf.keras.layers.Dense(units)\r\n",
        "        self.W2 = tf.keras.layers.Dense(units)\r\n",
        "        self.V = tf.keras.layers.Dense(1)\r\n",
        " \r\n",
        "    def call(self, features, hidden):\r\n",
        "        # hidden shape == (batch_size, hidden size)\r\n",
        "        # hidden_with_time_axis shape == (batch_size, 1, hidden size)\r\n",
        "        # we are doing this to perform addition to calculate the score\r\n",
        "        hidden_with_time_axis = tf.expand_dims(hidden, 1)\r\n",
        "\r\n",
        "        # score shape == (batch_size, max_length, 1)\r\n",
        "        # we get 1 at the last axis because we are applying score to self.V\r\n",
        "        # the shape of the tensor before applying self.V is (batch_size, max_length, units)\r\n",
        "        score = tf.nn.tanh(\r\n",
        "            self.W1(features) + self.W2(hidden_with_time_axis))\r\n",
        "        \r\n",
        "        # attention_weights shape == (batch_size, max_length, 1)\r\n",
        "        attention_weights = tf.nn.softmax(self.V(score), axis=1)\r\n",
        "\r\n",
        "        # context_vector shape after sum == (batch_size, hidden_size)\r\n",
        "        context_vector = attention_weights * features\r\n",
        "        context_vector = tf.reduce_sum(context_vector, axis=1)\r\n",
        " \r\n",
        "        return context_vector, attention_weights"
      ],
      "execution_count": 65,
      "outputs": []
    },
    {
      "cell_type": "code",
      "metadata": {
        "id": "6_qTgehTsIpB"
      },
      "source": [
        "#Attention\r\n",
        "\r\n",
        "def create_LSTM_attention(X, classification, embedding):\r\n",
        "  input_seq = Input(shape = (X.shape[1], X.shape[2]))\r\n",
        "  attn_layer = Attention(10)\r\n",
        "\r\n",
        "  if embedding:\r\n",
        "    time_embedding = Time2Vector(X.shape[1])\r\n",
        "    x = time_embedding(input_seq)\r\n",
        "    x = Concatenate(axis=-1)([input_seq, x])\r\n",
        "    lstm, state_c, state_h = LSTM(64, return_sequences= True, return_state = True)(x)\r\n",
        "\r\n",
        "  else:\r\n",
        "    lstm, state_c, state_h = LSTM(64, return_sequences= True, return_state = True)(input_seq)\r\n",
        "\r\n",
        "  if classification:\r\n",
        "    x, attention_weights = attn_layer(lstm, state_h)\r\n",
        "    x = Dense(128, activation = 'relu')(x)\r\n",
        "    #out = Dense(1, activation = 'softmax')(x)\r\n",
        "    out = Dense(2, activation=\"softmax\", name=\"output\")(x)\r\n",
        "    model = Model(inputs = input_seq, outputs = out)\r\n",
        "    model.compile(loss = 'categorical_crossentropy', optimizer = tf.keras.optimizers.Adam(1e-4), metrics = ['acc',f1_m,precision_m, recall_m])\r\n",
        "\r\n",
        "  else:\r\n",
        "    vector, attention_weights = attn_layer(lstm, state_h)\r\n",
        "    dense1 = Dense(20, activation=\"relu\")(vector)\r\n",
        "    dropout = Dropout(0.1)(dense1)\r\n",
        "    out = Dense(1)(dropout)\r\n",
        "    model = Model(inputs = input_seq, outputs = out)\r\n",
        "    model.compile(loss = 'mse', optimizer = 'Adam', metrics = ['mae', 'mape'])\r\n",
        "  return model"
      ],
      "execution_count": 66,
      "outputs": []
    },
    {
      "cell_type": "code",
      "metadata": {
        "id": "OWx8PaszsoyR"
      },
      "source": [
        "#With Time Embedding\r\n",
        "model_att_wembedding = create_LSTM_attention(X_train, True, True)"
      ],
      "execution_count": 67,
      "outputs": []
    },
    {
      "cell_type": "code",
      "metadata": {
        "colab": {
          "base_uri": "https://localhost:8080/"
        },
        "id": "GbUjEIuussbm",
        "outputId": "44dbbd15-c387-479b-f452-ee7cc764dd9d"
      },
      "source": [
        "model_att_wembedding.summary()"
      ],
      "execution_count": 68,
      "outputs": [
        {
          "output_type": "stream",
          "text": [
            "Model: \"model_4\"\n",
            "__________________________________________________________________________________________________\n",
            "Layer (type)                    Output Shape         Param #     Connected to                     \n",
            "==================================================================================================\n",
            "input_5 (InputLayer)            [(None, 256, 17)]    0                                            \n",
            "__________________________________________________________________________________________________\n",
            "time2_vector_3 (Time2Vector)    (None, 256, 2)       1024        input_5[0][0]                    \n",
            "__________________________________________________________________________________________________\n",
            "concatenate_3 (Concatenate)     (None, 256, 19)      0           input_5[0][0]                    \n",
            "                                                                 time2_vector_3[0][0]             \n",
            "__________________________________________________________________________________________________\n",
            "lstm_4 (LSTM)                   [(None, 256, 64), (N 21504       concatenate_3[0][0]              \n",
            "__________________________________________________________________________________________________\n",
            "attention (Attention)           ((None, 64), (None,  1311        lstm_4[0][0]                     \n",
            "                                                                 lstm_4[0][2]                     \n",
            "__________________________________________________________________________________________________\n",
            "dense_7 (Dense)                 (None, 128)          8320        attention[0][0]                  \n",
            "__________________________________________________________________________________________________\n",
            "output (Dense)                  (None, 2)            258         dense_7[0][0]                    \n",
            "==================================================================================================\n",
            "Total params: 32,417\n",
            "Trainable params: 32,417\n",
            "Non-trainable params: 0\n",
            "__________________________________________________________________________________________________\n"
          ],
          "name": "stdout"
        }
      ]
    },
    {
      "cell_type": "code",
      "metadata": {
        "colab": {
          "base_uri": "https://localhost:8080/"
        },
        "id": "StH0QJmhsuPJ",
        "outputId": "e9c5477a-e99e-40f9-eb42-966ed5a95362"
      },
      "source": [
        "history = model_att_wembedding.fit(X_train, y_train,epochs=5,  validation_data=(X_val, y_val))"
      ],
      "execution_count": 69,
      "outputs": [
        {
          "output_type": "stream",
          "text": [
            "Epoch 1/5\n",
            "2023/2023 [==============================] - 38s 18ms/step - loss: 0.6685 - acc: 0.5565 - f1_m: 0.5565 - precision_m: 0.5565 - recall_m: 0.5565 - val_loss: 0.4894 - val_acc: 0.7611 - val_f1_m: 0.7612 - val_precision_m: 0.7612 - val_recall_m: 0.7612\n",
            "Epoch 2/5\n",
            "2023/2023 [==============================] - 37s 18ms/step - loss: 0.4156 - acc: 0.8100 - f1_m: 0.8100 - precision_m: 0.8100 - recall_m: 0.8100 - val_loss: 0.4621 - val_acc: 0.7747 - val_f1_m: 0.7748 - val_precision_m: 0.7748 - val_recall_m: 0.7748\n",
            "Epoch 3/5\n",
            "2023/2023 [==============================] - 35s 17ms/step - loss: 0.4022 - acc: 0.8134 - f1_m: 0.8134 - precision_m: 0.8134 - recall_m: 0.8134 - val_loss: 0.4357 - val_acc: 0.7911 - val_f1_m: 0.7911 - val_precision_m: 0.7911 - val_recall_m: 0.7911\n",
            "Epoch 4/5\n",
            "2023/2023 [==============================] - 36s 18ms/step - loss: 0.3972 - acc: 0.8159 - f1_m: 0.8159 - precision_m: 0.8159 - recall_m: 0.8159 - val_loss: 0.4343 - val_acc: 0.7922 - val_f1_m: 0.7922 - val_precision_m: 0.7922 - val_recall_m: 0.7922\n",
            "Epoch 5/5\n",
            "2023/2023 [==============================] - 38s 19ms/step - loss: 0.3807 - acc: 0.8277 - f1_m: 0.8277 - precision_m: 0.8277 - recall_m: 0.8277 - val_loss: 0.4562 - val_acc: 0.7759 - val_f1_m: 0.7760 - val_precision_m: 0.7760 - val_recall_m: 0.7760\n"
          ],
          "name": "stdout"
        }
      ]
    },
    {
      "cell_type": "code",
      "metadata": {
        "colab": {
          "base_uri": "https://localhost:8080/"
        },
        "id": "dTloFBTOxAY1",
        "outputId": "2c0b1b18-7eb0-49d0-f16e-23a00bb11b3a"
      },
      "source": [
        "y_pred_att_wembedding = model_att_wembedding.predict(X_val)\r\n",
        "y_pred_att_wembedding = [y_pred_att_wembedding[i].argmax() for i in range(len(y_pred_att_wembedding))]\r\n",
        "print(set(y_pred_att_wembedding))\r\n",
        "\r\n",
        "num =[0,0]\r\n",
        "for i in range(len(y_pred_att_wembedding)):\r\n",
        "  num[y_pred_att_wembedding[i]] += 1 \r\n",
        "\r\n",
        "print(num)\r\n",
        "\r\n",
        "y_true =  [y_val[i].argmax() for i in range(len(y_val))]\r\n",
        "num =[0,0]\r\n",
        "for i in range(len(y_true)):\r\n",
        "  num[y_true[i]] += 1 \r\n",
        "print(num)\r\n",
        "\r\n",
        "print(classification_report(y_true, y_pred_att_wembedding))"
      ],
      "execution_count": 71,
      "outputs": [
        {
          "output_type": "stream",
          "text": [
            "{0, 1}\n",
            "[8881, 18710]\n",
            "[13524, 14067]\n",
            "              precision    recall  f1-score   support\n",
            "\n",
            "           0       0.91      0.60      0.72     13524\n",
            "           1       0.71      0.95      0.81     14067\n",
            "\n",
            "    accuracy                           0.78     27591\n",
            "   macro avg       0.81      0.77      0.77     27591\n",
            "weighted avg       0.81      0.78      0.77     27591\n",
            "\n"
          ],
          "name": "stdout"
        }
      ]
    },
    {
      "cell_type": "code",
      "metadata": {
        "colab": {
          "base_uri": "https://localhost:8080/",
          "height": 467
        },
        "id": "nRvCVkRkRKJl",
        "outputId": "823ccfcc-ec27-454c-ca12-79498cf34567"
      },
      "source": [
        "cm = confusion_matrix(y_true, y_pred_att_wembedding)\r\n",
        "plot_confusion_matrix(cm,\r\n",
        "                      ['upward','downward'],\r\n",
        "                      title='Confusion matrix',\r\n",
        "                      cmap=None,\r\n",
        "                      normalize=True)"
      ],
      "execution_count": 72,
      "outputs": [
        {
          "output_type": "display_data",
          "data": {
            "image/png": "[encoded data removed]",
            "text/plain": [
              "<Figure size 576x432 with 2 Axes>"
            ]
          },
          "metadata": {
            "tags": [],
            "needs_background": "light"
          }
        }
      ]
    },
    {
      "cell_type": "code",
      "metadata": {
        "colab": {
          "base_uri": "https://localhost:8080/"
        },
        "id": "De2QSQ4MRMQs",
        "outputId": "72dfbdb3-41a2-4084-f363-937e084243d7"
      },
      "source": [
        "#Without Time Embedding\r\n",
        "model_att_woembedding = create_LSTM_attention(X_train, True, False)\r\n",
        "model_att_woembedding.summary()"
      ],
      "execution_count": 73,
      "outputs": [
        {
          "output_type": "stream",
          "text": [
            "Model: \"model_5\"\n",
            "__________________________________________________________________________________________________\n",
            "Layer (type)                    Output Shape         Param #     Connected to                     \n",
            "==================================================================================================\n",
            "input_6 (InputLayer)            [(None, 256, 17)]    0                                            \n",
            "__________________________________________________________________________________________________\n",
            "lstm_5 (LSTM)                   [(None, 256, 64), (N 20992       input_6[0][0]                    \n",
            "__________________________________________________________________________________________________\n",
            "attention_1 (Attention)         ((None, 64), (None,  1311        lstm_5[0][0]                     \n",
            "                                                                 lstm_5[0][2]                     \n",
            "__________________________________________________________________________________________________\n",
            "dense_11 (Dense)                (None, 128)          8320        attention_1[0][0]                \n",
            "__________________________________________________________________________________________________\n",
            "output (Dense)                  (None, 2)            258         dense_11[0][0]                   \n",
            "==================================================================================================\n",
            "Total params: 30,881\n",
            "Trainable params: 30,881\n",
            "Non-trainable params: 0\n",
            "__________________________________________________________________________________________________\n"
          ],
          "name": "stdout"
        }
      ]
    },
    {
      "cell_type": "code",
      "metadata": {
        "colab": {
          "base_uri": "https://localhost:8080/"
        },
        "id": "pwq5eodORP2W",
        "outputId": "d8318260-015b-44eb-fb5a-575e5f0a0db9"
      },
      "source": [
        "history = model_att_woembedding.fit(X_train, y_train,epochs=5,  validation_data=(X_val, y_val))"
      ],
      "execution_count": 74,
      "outputs": [
        {
          "output_type": "stream",
          "text": [
            "Epoch 1/5\n",
            "2023/2023 [==============================] - 38s 18ms/step - loss: 0.6854 - acc: 0.5320 - f1_m: 0.5320 - precision_m: 0.5320 - recall_m: 0.5320 - val_loss: 0.4736 - val_acc: 0.7814 - val_f1_m: 0.7814 - val_precision_m: 0.7814 - val_recall_m: 0.7814\n",
            "Epoch 2/5\n",
            "2023/2023 [==============================] - 35s 17ms/step - loss: 0.4069 - acc: 0.8131 - f1_m: 0.8131 - precision_m: 0.8131 - recall_m: 0.8131 - val_loss: 0.4584 - val_acc: 0.7832 - val_f1_m: 0.7832 - val_precision_m: 0.7832 - val_recall_m: 0.7832\n",
            "Epoch 3/5\n",
            "2023/2023 [==============================] - 36s 18ms/step - loss: 0.3999 - acc: 0.8145 - f1_m: 0.8145 - precision_m: 0.8145 - recall_m: 0.8145 - val_loss: 0.4437 - val_acc: 0.7898 - val_f1_m: 0.7898 - val_precision_m: 0.7898 - val_recall_m: 0.7898\n",
            "Epoch 4/5\n",
            "2023/2023 [==============================] - 37s 18ms/step - loss: 0.3852 - acc: 0.8243 - f1_m: 0.8243 - precision_m: 0.8243 - recall_m: 0.8243 - val_loss: 0.4267 - val_acc: 0.7999 - val_f1_m: 0.8000 - val_precision_m: 0.8000 - val_recall_m: 0.8000\n",
            "Epoch 5/5\n",
            "2023/2023 [==============================] - 36s 18ms/step - loss: 0.3658 - acc: 0.8348 - f1_m: 0.8348 - precision_m: 0.8348 - recall_m: 0.8348 - val_loss: 0.3745 - val_acc: 0.8312 - val_f1_m: 0.8313 - val_precision_m: 0.8313 - val_recall_m: 0.8313\n"
          ],
          "name": "stdout"
        }
      ]
    },
    {
      "cell_type": "code",
      "metadata": {
        "colab": {
          "base_uri": "https://localhost:8080/"
        },
        "id": "wtjdA9OvRRRc",
        "outputId": "2f65f5f1-7b73-4b6d-f6c5-2664e602fb3b"
      },
      "source": [
        "y_pred_att_woembedding = model_att_woembedding.predict(X_val)\r\n",
        "y_pred_att_woembedding = [y_pred_att_woembedding[i].argmax() for i in range(len(y_pred_att_woembedding))]\r\n",
        "print(set(y_pred_att_woembedding))\r\n",
        "\r\n",
        "num =[0,0]\r\n",
        "for i in range(len(y_pred_att_woembedding)):\r\n",
        "  num[y_pred_att_woembedding[i]] += 1 \r\n",
        "\r\n",
        "print(num)\r\n",
        "\r\n",
        "y_true =  [y_val[i].argmax() for i in range(len(y_val))]\r\n",
        "num =[0,0]\r\n",
        "for i in range(len(y_true)):\r\n",
        "  num[y_true[i]] += 1 \r\n",
        "print(num)\r\n",
        "\r\n",
        "print(classification_report(y_true, y_pred_att_woembedding))"
      ],
      "execution_count": 75,
      "outputs": [
        {
          "output_type": "stream",
          "text": [
            "{0, 1}\n",
            "[11796, 15795]\n",
            "[13524, 14067]\n",
            "              precision    recall  f1-score   support\n",
            "\n",
            "           0       0.88      0.76      0.82     13524\n",
            "           1       0.80      0.90      0.84     14067\n",
            "\n",
            "    accuracy                           0.83     27591\n",
            "   macro avg       0.84      0.83      0.83     27591\n",
            "weighted avg       0.84      0.83      0.83     27591\n",
            "\n"
          ],
          "name": "stdout"
        }
      ]
    },
    {
      "cell_type": "code",
      "metadata": {
        "colab": {
          "base_uri": "https://localhost:8080/",
          "height": 467
        },
        "id": "EHVoDY-iRSTG",
        "outputId": "23ef9b53-662e-4a45-f165-74f5e8fa2b98"
      },
      "source": [
        "cm = confusion_matrix(y_true, y_pred_att_woembedding)\r\n",
        "plot_confusion_matrix(cm,\r\n",
        "                      ['upward','downward'],\r\n",
        "                      title='Confusion matrix',\r\n",
        "                      cmap=None,\r\n",
        "                      normalize=True)"
      ],
      "execution_count": 76,
      "outputs": [
        {
          "output_type": "display_data",
          "data": {
            "image/png": "[encoded data removed]",
            "text/plain": [
              "<Figure size 576x432 with 2 Axes>"
            ]
          },
          "metadata": {
            "tags": [],
            "needs_background": "light"
          }
        }
      ]
    },
    {
      "cell_type": "code",
      "metadata": {
        "id": "KCePy0-k1OqU"
      },
      "source": [
        "df_export_att = pd.DataFrame(y_pred_att_wembedding)\r\n",
        "df_export_att.columns = ['with embedding']\r\n",
        "df_export_att['without embedding'] = y_pred_att_woembedding\r\n",
        "df_export_att.to_csv('/content/drive/MyDrive/ADL_Final/attention_prediction.csv')"
      ],
      "execution_count": 80,
      "outputs": []
    },
    {
      "cell_type": "markdown",
      "metadata": {
        "id": "NsikEAmMMO2P"
      },
      "source": [
        "## Transformers"
      ]
    },
    {
      "cell_type": "code",
      "metadata": {
        "id": "zTtD7C7YMQ3r"
      },
      "source": [
        "class SingleAttention(Layer):\r\n",
        "  def __init__(self, d_k, d_v):\r\n",
        "    super(SingleAttention, self).__init__()\r\n",
        "    self.d_k = d_k\r\n",
        "    self.d_v = d_v\r\n",
        "\r\n",
        "  def build(self, input_shape):\r\n",
        "    self.query = Dense(self.d_k, \r\n",
        "                       input_shape=input_shape, \r\n",
        "                       kernel_initializer='glorot_uniform', \r\n",
        "                       bias_initializer='glorot_uniform')\r\n",
        "    \r\n",
        "    self.key = Dense(self.d_k, \r\n",
        "                     input_shape=input_shape, \r\n",
        "                     kernel_initializer='glorot_uniform', \r\n",
        "                     bias_initializer='glorot_uniform')\r\n",
        "    \r\n",
        "    self.value = Dense(self.d_v, \r\n",
        "                       input_shape=input_shape, \r\n",
        "                       kernel_initializer='glorot_uniform', \r\n",
        "                       bias_initializer='glorot_uniform')\r\n",
        "\r\n",
        "  def call(self, inputs): # inputs = (in_seq, in_seq, in_seq)\r\n",
        "    q = self.query(inputs[0])\r\n",
        "    k = self.key(inputs[1])\r\n",
        "\r\n",
        "    attn_weights = tf.matmul(q, k, transpose_b=True)\r\n",
        "    attn_weights = tf.map_fn(lambda x: x/np.sqrt(self.d_k), attn_weights)\r\n",
        "    attn_weights = tf.nn.softmax(attn_weights, axis=-1)\r\n",
        "    \r\n",
        "    v = self.value(inputs[2])\r\n",
        "    attn_out = tf.matmul(attn_weights, v)\r\n",
        "    return attn_out    \r\n",
        "\r\n",
        "#############################################################################\r\n",
        "\r\n",
        "class MultiAttention(Layer):\r\n",
        "  def __init__(self, d_k, d_v, n_heads):\r\n",
        "    super(MultiAttention, self).__init__()\r\n",
        "    self.d_k = d_k\r\n",
        "    self.d_v = d_v\r\n",
        "    self.n_heads = n_heads\r\n",
        "    self.attn_heads = list()\r\n",
        "\r\n",
        "  def build(self, input_shape):\r\n",
        "    for n in range(self.n_heads):\r\n",
        "      self.attn_heads.append(SingleAttention(self.d_k, self.d_v))  \r\n",
        "    \r\n",
        "    # input_shape[0]=(batch, seq_len, 7), input_shape[0][-1]=7 \r\n",
        "    self.linear = Dense(input_shape[0][-1], \r\n",
        "                        input_shape=input_shape, \r\n",
        "                        kernel_initializer='glorot_uniform', \r\n",
        "                        bias_initializer='glorot_uniform')\r\n",
        "\r\n",
        "  def call(self, inputs):\r\n",
        "    attn = [self.attn_heads[i](inputs) for i in range(self.n_heads)]\r\n",
        "    concat_attn = tf.concat(attn, axis=-1)\r\n",
        "    multi_linear = self.linear(concat_attn)\r\n",
        "    return multi_linear   \r\n",
        "\r\n",
        "#############################################################################\r\n",
        "\r\n",
        "class TransformerEncoder(Layer):\r\n",
        "  def __init__(self, d_k, d_v, n_heads, ff_dim, dropout=0.1, **kwargs):\r\n",
        "    super(TransformerEncoder, self).__init__()\r\n",
        "    self.d_k = d_k\r\n",
        "    self.d_v = d_v\r\n",
        "    self.n_heads = n_heads\r\n",
        "    self.ff_dim = ff_dim\r\n",
        "    self.attn_heads = list()\r\n",
        "    self.dropout_rate = dropout\r\n",
        "\r\n",
        "  def build(self, input_shape):\r\n",
        "    self.attn_multi = MultiAttention(self.d_k, self.d_v, self.n_heads)\r\n",
        "    self.attn_dropout = Dropout(self.dropout_rate)\r\n",
        "    self.attn_normalize = LayerNormalization(input_shape=input_shape, epsilon=1e-6)\r\n",
        "\r\n",
        "    self.ff_conv1D_1 = Conv1D(filters=self.ff_dim, kernel_size=1, activation='relu')\r\n",
        "    # input_shape[0]=(batch, seq_len, 7), input_shape[0][-1] = 7 \r\n",
        "    self.ff_conv1D_2 = Conv1D(filters=input_shape[0][-1], kernel_size=1) \r\n",
        "    self.ff_dropout = Dropout(self.dropout_rate)\r\n",
        "    self.ff_normalize = LayerNormalization(input_shape=input_shape, epsilon=1e-6)    \r\n",
        "  \r\n",
        "  def call(self, inputs): # inputs = (in_seq, in_seq, in_seq)\r\n",
        "    attn_layer = self.attn_multi(inputs)\r\n",
        "    attn_layer = self.attn_dropout(attn_layer)\r\n",
        "    attn_layer = self.attn_normalize(inputs[0] + attn_layer)\r\n",
        "\r\n",
        "    ff_layer = self.ff_conv1D_1(attn_layer)\r\n",
        "    ff_layer = self.ff_conv1D_2(ff_layer)\r\n",
        "    ff_layer = self.ff_dropout(ff_layer)\r\n",
        "    ff_layer = self.ff_normalize(inputs[0] + ff_layer)\r\n",
        "    return ff_layer \r\n",
        "\r\n",
        "  def get_config(self): # Needed for saving and loading model with custom layer\r\n",
        "    config = super().get_config().copy()\r\n",
        "    config.update({'d_k': self.d_k,\r\n",
        "                   'd_v': self.d_v,\r\n",
        "                   'n_heads': self.n_heads,\r\n",
        "                   'ff_dim': self.ff_dim,\r\n",
        "                   'attn_heads': self.attn_heads,\r\n",
        "                   'dropout_rate': self.dropout_rate})\r\n",
        "    return config"
      ],
      "execution_count": 81,
      "outputs": []
    },
    {
      "cell_type": "code",
      "metadata": {
        "id": "jgCjmhBJMVYZ"
      },
      "source": [
        "def create_transformers(X, embedding, classification):\r\n",
        "  \r\n",
        "  d_k = 256\r\n",
        "  d_v = 256\r\n",
        "  n_heads = 12\r\n",
        "  ff_dim = 256\r\n",
        "\r\n",
        "  input_seq = Input(shape = (X.shape[1], X.shape[2]))\r\n",
        "\r\n",
        "  attn_layer1 = TransformerEncoder(d_k, d_v, n_heads, ff_dim)\r\n",
        "  attn_layer2 = TransformerEncoder(d_k, d_v, n_heads, ff_dim)\r\n",
        "  attn_layer3 = TransformerEncoder(d_k, d_v, n_heads, ff_dim)\r\n",
        "\r\n",
        "  if embedding:\r\n",
        "    time_embedding = Time2Vector(X.shape[1])\r\n",
        "    x = time_embedding(input_seq)\r\n",
        "    x = Concatenate(axis=-1)([input_seq, x])\r\n",
        "    x = attn_layer1((x,x,x))\r\n",
        "  else:\r\n",
        "    x = attn_layer1((input_seq, input_seq, input_seq))\r\n",
        "  \r\n",
        "  x = attn_layer2((x,x,x))\r\n",
        "  x = attn_layer3((x,x,x))\r\n",
        "  x = GlobalAveragePooling1D(data_format='channels_first')(x)\r\n",
        "  x = Dropout(0.1)(x)\r\n",
        "  x = Dense(64, activation='relu')(x)\r\n",
        "  x = Dropout(0.1)(x)\r\n",
        "\r\n",
        "  if classification:\r\n",
        "    out = Dense(2, activation=\"softmax\", name=\"output\")(x)\r\n",
        "    model = Model(inputs = input_seq, outputs = out)\r\n",
        "    model.compile(loss = 'categorical_crossentropy', optimizer = tf.keras.optimizers.Adam(1e-5), metrics = ['accuracy'])\r\n",
        "  else:\r\n",
        "    out = Dense(1)(x)\r\n",
        "    model = Model(inputs = input_seq, outputs = out)\r\n",
        "    model.compile(loss = 'mse', optimizer = 'Adam', metrics = ['mae', 'mape'])\r\n",
        "  \r\n",
        "  return model\r\n"
      ],
      "execution_count": 82,
      "outputs": []
    },
    {
      "cell_type": "code",
      "metadata": {
        "id": "_H4e5962rYXD"
      },
      "source": [
        "X_train, y_train = convert_raw_samples_to_model_samples(df_train, Y_train, 64)\r\n",
        "X_val, y_val = convert_raw_samples_to_model_samples(df_val, Y_val, 64)"
      ],
      "execution_count": 84,
      "outputs": []
    },
    {
      "cell_type": "code",
      "metadata": {
        "id": "pqMG4vNyNMZv"
      },
      "source": [
        "#With Time Embedding\r\n",
        "model_transformers_w_embedding = create_transformers(X_train, True, True)"
      ],
      "execution_count": 85,
      "outputs": []
    },
    {
      "cell_type": "code",
      "metadata": {
        "colab": {
          "base_uri": "https://localhost:8080/"
        },
        "id": "Th7btffcNUSR",
        "outputId": "3ad8952a-7631-4a0a-8e76-d1f47c4e3940"
      },
      "source": [
        "model_transformers_w_embedding.summary()"
      ],
      "execution_count": 86,
      "outputs": [
        {
          "output_type": "stream",
          "text": [
            "Model: \"model_6\"\n",
            "__________________________________________________________________________________________________\n",
            "Layer (type)                    Output Shape         Param #     Connected to                     \n",
            "==================================================================================================\n",
            "input_7 (InputLayer)            [(None, 64, 17)]     0                                            \n",
            "__________________________________________________________________________________________________\n",
            "time2_vector_4 (Time2Vector)    (None, 64, 2)        256         input_7[0][0]                    \n",
            "__________________________________________________________________________________________________\n",
            "concatenate_4 (Concatenate)     (None, 64, 19)       0           input_7[0][0]                    \n",
            "                                                                 time2_vector_4[0][0]             \n",
            "__________________________________________________________________________________________________\n",
            "transformer_encoder (Transforme (None, 64, 19)       252786      concatenate_4[0][0]              \n",
            "                                                                 concatenate_4[0][0]              \n",
            "                                                                 concatenate_4[0][0]              \n",
            "__________________________________________________________________________________________________\n",
            "transformer_encoder_1 (Transfor (None, 64, 19)       252786      transformer_encoder[0][0]        \n",
            "                                                                 transformer_encoder[0][0]        \n",
            "                                                                 transformer_encoder[0][0]        \n",
            "__________________________________________________________________________________________________\n",
            "transformer_encoder_2 (Transfor (None, 64, 19)       252786      transformer_encoder_1[0][0]      \n",
            "                                                                 transformer_encoder_1[0][0]      \n",
            "                                                                 transformer_encoder_1[0][0]      \n",
            "__________________________________________________________________________________________________\n",
            "global_average_pooling1d (Globa (None, 64)           0           transformer_encoder_2[0][0]      \n",
            "__________________________________________________________________________________________________\n",
            "dropout_4 (Dropout)             (None, 64)           0           global_average_pooling1d[0][0]   \n",
            "__________________________________________________________________________________________________\n",
            "dense_12 (Dense)                (None, 64)           4160        dropout_4[0][0]                  \n",
            "__________________________________________________________________________________________________\n",
            "dropout_5 (Dropout)             (None, 64)           0           dense_12[0][0]                   \n",
            "__________________________________________________________________________________________________\n",
            "output (Dense)                  (None, 2)            130         dropout_5[0][0]                  \n",
            "==================================================================================================\n",
            "Total params: 762,904\n",
            "Trainable params: 762,904\n",
            "Non-trainable params: 0\n",
            "__________________________________________________________________________________________________\n"
          ],
          "name": "stdout"
        }
      ]
    },
    {
      "cell_type": "code",
      "metadata": {
        "colab": {
          "base_uri": "https://localhost:8080/"
        },
        "id": "R-eSpiv4NVw7",
        "outputId": "f111f5c8-f05a-44c1-b5a0-547435a03db2"
      },
      "source": [
        "history = model_transformers_w_embedding.fit(X_train, y_train,epochs=5,  validation_data=(X_val, y_val))"
      ],
      "execution_count": 87,
      "outputs": [
        {
          "output_type": "stream",
          "text": [
            "Epoch 1/5\n",
            "2029/2029 [==============================] - 748s 359ms/step - loss: 0.6912 - accuracy: 0.5648 - val_loss: 0.6802 - val_accuracy: 0.5966\n",
            "Epoch 2/5\n",
            "2029/2029 [==============================] - 707s 349ms/step - loss: 0.6701 - accuracy: 0.6426 - val_loss: 0.6539 - val_accuracy: 0.6240\n",
            "Epoch 3/5\n",
            "2029/2029 [==============================] - 715s 353ms/step - loss: 0.6366 - accuracy: 0.6815 - val_loss: 0.6341 - val_accuracy: 0.6234\n",
            "Epoch 4/5\n",
            "2029/2029 [==============================] - 706s 348ms/step - loss: 0.5926 - accuracy: 0.7314 - val_loss: 0.5983 - val_accuracy: 0.6633\n",
            "Epoch 5/5\n",
            "2029/2029 [==============================] - 707s 348ms/step - loss: 0.5438 - accuracy: 0.7655 - val_loss: 0.5294 - val_accuracy: 0.7495\n"
          ],
          "name": "stdout"
        }
      ]
    },
    {
      "cell_type": "code",
      "metadata": {
        "colab": {
          "base_uri": "https://localhost:8080/"
        },
        "id": "b5KErixufB10",
        "outputId": "f7621cb4-9525-4c4b-f539-da8428d90f6e"
      },
      "source": [
        "y_pred_transformers_w_embedding = model_transformers_w_embedding.predict(X_val)\r\n",
        "y_pred_transformers_w_embedding = [y_pred_transformers_w_embedding[i].argmax() for i in range(len(y_pred_transformers_w_embedding))]\r\n",
        "print(set(y_pred))\r\n",
        "\r\n",
        "num =[0,0]\r\n",
        "for i in range(len(y_pred_transformers_w_embedding)):\r\n",
        "  num[y_pred_transformers_w_embedding[i]] += 1 \r\n",
        "\r\n",
        "print(num)\r\n",
        "\r\n",
        "y_true =  [y_val[i].argmax() for i in range(len(y_val))]\r\n",
        "num =[0,0]\r\n",
        "for i in range(len(y_true)):\r\n",
        "  num[y_true[i]] += 1 \r\n",
        "print(num)"
      ],
      "execution_count": 88,
      "outputs": [
        {
          "output_type": "stream",
          "text": [
            "{0, 1}\n",
            "[8679, 19104]\n",
            "[13615, 14168]\n"
          ],
          "name": "stdout"
        }
      ]
    },
    {
      "cell_type": "code",
      "metadata": {
        "colab": {
          "base_uri": "https://localhost:8080/"
        },
        "id": "0a7Dni_3AuTS",
        "outputId": "34482afa-bbb4-4998-e7a4-0d844bddde85"
      },
      "source": [
        "from sklearn.metrics import classification_report\r\n",
        "\r\n",
        "print(classification_report(y_true, y_pred_transformers_w_embedding))"
      ],
      "execution_count": 89,
      "outputs": [
        {
          "output_type": "stream",
          "text": [
            "              precision    recall  f1-score   support\n",
            "\n",
            "           0       0.88      0.56      0.69     13615\n",
            "           1       0.69      0.93      0.79     14168\n",
            "\n",
            "    accuracy                           0.75     27783\n",
            "   macro avg       0.79      0.75      0.74     27783\n",
            "weighted avg       0.78      0.75      0.74     27783\n",
            "\n"
          ],
          "name": "stdout"
        }
      ]
    },
    {
      "cell_type": "code",
      "metadata": {
        "colab": {
          "base_uri": "https://localhost:8080/",
          "height": 467
        },
        "id": "zV9nMCWBS3aW",
        "outputId": "012d437c-cf04-4e77-b843-3c5473b097e1"
      },
      "source": [
        "from sklearn.metrics import confusion_matrix\r\n",
        "\r\n",
        "cm = confusion_matrix(y_true, y_pred_transformers_w_embedding)\r\n",
        "plot_confusion_matrix(cm,\r\n",
        "                      ['upward','downward'],\r\n",
        "                      title='Confusion matrix',\r\n",
        "                      cmap=None,\r\n",
        "                      normalize=True)"
      ],
      "execution_count": 90,
      "outputs": [
        {
          "output_type": "display_data",
          "data": {
            "image/png": "[encoded data removed]",
            "text/plain": [
              "<Figure size 576x432 with 2 Axes>"
            ]
          },
          "metadata": {
            "tags": [],
            "needs_background": "light"
          }
        }
      ]
    },
    {
      "cell_type": "code",
      "metadata": {
        "colab": {
          "base_uri": "https://localhost:8080/"
        },
        "id": "UOxtQiDXBTBk",
        "outputId": "ebcc47ec-5799-4cd7-db3d-502194678e8d"
      },
      "source": [
        "#Without Time Embedding\r\n",
        "model_transformers_wo_embedding = create_transformers(X_train, False, True)\r\n",
        "model_transformers_wo_embedding.summary()"
      ],
      "execution_count": 91,
      "outputs": [
        {
          "output_type": "stream",
          "text": [
            "Model: \"model_7\"\n",
            "__________________________________________________________________________________________________\n",
            "Layer (type)                    Output Shape         Param #     Connected to                     \n",
            "==================================================================================================\n",
            "input_8 (InputLayer)            [(None, 64, 17)]     0                                            \n",
            "__________________________________________________________________________________________________\n",
            "transformer_encoder_3 (Transfor (None, 64, 17)       227174      input_8[0][0]                    \n",
            "                                                                 input_8[0][0]                    \n",
            "                                                                 input_8[0][0]                    \n",
            "__________________________________________________________________________________________________\n",
            "transformer_encoder_4 (Transfor (None, 64, 17)       227174      transformer_encoder_3[0][0]      \n",
            "                                                                 transformer_encoder_3[0][0]      \n",
            "                                                                 transformer_encoder_3[0][0]      \n",
            "__________________________________________________________________________________________________\n",
            "transformer_encoder_5 (Transfor (None, 64, 17)       227174      transformer_encoder_4[0][0]      \n",
            "                                                                 transformer_encoder_4[0][0]      \n",
            "                                                                 transformer_encoder_4[0][0]      \n",
            "__________________________________________________________________________________________________\n",
            "global_average_pooling1d_1 (Glo (None, 64)           0           transformer_encoder_5[0][0]      \n",
            "__________________________________________________________________________________________________\n",
            "dropout_6 (Dropout)             (None, 64)           0           global_average_pooling1d_1[0][0] \n",
            "__________________________________________________________________________________________________\n",
            "dense_13 (Dense)                (None, 64)           4160        dropout_6[0][0]                  \n",
            "__________________________________________________________________________________________________\n",
            "dropout_7 (Dropout)             (None, 64)           0           dense_13[0][0]                   \n",
            "__________________________________________________________________________________________________\n",
            "output (Dense)                  (None, 2)            130         dropout_7[0][0]                  \n",
            "==================================================================================================\n",
            "Total params: 685,812\n",
            "Trainable params: 685,812\n",
            "Non-trainable params: 0\n",
            "__________________________________________________________________________________________________\n"
          ],
          "name": "stdout"
        }
      ]
    },
    {
      "cell_type": "code",
      "metadata": {
        "colab": {
          "base_uri": "https://localhost:8080/"
        },
        "id": "O27uA6nTBYBb",
        "outputId": "1ec96b74-11d9-4d61-b659-385692e7d69e"
      },
      "source": [
        "history = model_transformers_wo_embedding.fit(X_train, y_train,epochs=5,  validation_data=(X_val, y_val))"
      ],
      "execution_count": 92,
      "outputs": [
        {
          "output_type": "stream",
          "text": [
            "Epoch 1/5\n",
            "2029/2029 [==============================] - 747s 359ms/step - loss: 0.6909 - accuracy: 0.5929 - val_loss: 0.6774 - val_accuracy: 0.6216\n",
            "Epoch 2/5\n",
            "2029/2029 [==============================] - 726s 358ms/step - loss: 0.6669 - accuracy: 0.6625 - val_loss: 0.6381 - val_accuracy: 0.6907\n",
            "Epoch 3/5\n",
            "2029/2029 [==============================] - 726s 358ms/step - loss: 0.6279 - accuracy: 0.7055 - val_loss: 0.6002 - val_accuracy: 0.7102\n",
            "Epoch 4/5\n",
            "2029/2029 [==============================] - 717s 354ms/step - loss: 0.5786 - accuracy: 0.7566 - val_loss: 0.5390 - val_accuracy: 0.7839\n",
            "Epoch 5/5\n",
            "2029/2029 [==============================] - 707s 349ms/step - loss: 0.5238 - accuracy: 0.7828 - val_loss: 0.4962 - val_accuracy: 0.7815\n"
          ],
          "name": "stdout"
        }
      ]
    },
    {
      "cell_type": "code",
      "metadata": {
        "colab": {
          "base_uri": "https://localhost:8080/"
        },
        "id": "SD6Y6vLCBa9E",
        "outputId": "55c7f590-893f-4aac-ba27-8c511fc8e60e"
      },
      "source": [
        "y_pred_transformers_wo_embedding = model_transformers_wo_embedding.predict(X_val)\r\n",
        "y_pred_transformers_wo_embedding = [y_pred_transformers_wo_embedding[i].argmax() for i in range(len(y_pred_transformers_wo_embedding))]\r\n",
        "print(set(y_pred_transformers_wo_embedding))\r\n",
        "\r\n",
        "num =[0,0]\r\n",
        "for i in range(len(y_pred_transformers_wo_embedding)):\r\n",
        "  num[y_pred_transformers_wo_embedding[i]] += 1 \r\n",
        "\r\n",
        "print(num)\r\n",
        "\r\n",
        "y_true =  [y_val[i].argmax() for i in range(len(y_val))]\r\n",
        "num =[0,0]\r\n",
        "for i in range(len(y_true)):\r\n",
        "  num[y_true[i]] += 1 \r\n",
        "print(num)\r\n",
        "print(classification_report(y_true, y_pred_transformers_wo_embedding))"
      ],
      "execution_count": 93,
      "outputs": [
        {
          "output_type": "stream",
          "text": [
            "{0, 1}\n",
            "[10419, 17364]\n",
            "[13615, 14168]\n",
            "              precision    recall  f1-score   support\n",
            "\n",
            "           0       0.86      0.66      0.75     13615\n",
            "           1       0.73      0.90      0.81     14168\n",
            "\n",
            "    accuracy                           0.78     27783\n",
            "   macro avg       0.80      0.78      0.78     27783\n",
            "weighted avg       0.80      0.78      0.78     27783\n",
            "\n"
          ],
          "name": "stdout"
        }
      ]
    },
    {
      "cell_type": "code",
      "metadata": {
        "id": "LhhlgCPOS1uE"
      },
      "source": [
        "df_export_transformers = pd.DataFrame(y_pred_transformers_w_embedding)\r\n",
        "df_export_transformers.columns = ['with time embedding']\r\n",
        "df_export_transformers['without time embedding'] = y_pred_transformers_wo_embedding\r\n",
        "df_export_transformers.to_csv(\"/content/drive/MyDrive/ADL_Final/transformers_prediction.csv\")"
      ],
      "execution_count": 95,
      "outputs": []
    },
    {
      "cell_type": "code",
      "metadata": {
        "colab": {
          "base_uri": "https://localhost:8080/",
          "height": 467
        },
        "id": "RAV9LPcDPy4Y",
        "outputId": "902be6a7-46f3-4edf-986e-d7a8061b3499"
      },
      "source": [
        "from sklearn.metrics import confusion_matrix\r\n",
        "\r\n",
        "cm = confusion_matrix(y_true, y_pred)\r\n",
        "plot_confusion_matrix(cm,\r\n",
        "                      ['upward','downward'],\r\n",
        "                      title='Confusion matrix',\r\n",
        "                      cmap=None,\r\n",
        "                      normalize=True)"
      ],
      "execution_count": 55,
      "outputs": [
        {
          "output_type": "display_data",
          "data": {
            "image/png": "[encoded data removed]",
            "text/plain": [
              "<Figure size 576x432 with 2 Axes>"
            ]
          },
          "metadata": {
            "tags": [],
            "needs_background": "light"
          }
        }
      ]
    }
  ]
}