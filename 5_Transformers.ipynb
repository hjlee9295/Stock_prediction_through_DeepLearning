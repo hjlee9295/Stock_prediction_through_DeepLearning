{
  "nbformat": 4,
  "nbformat_minor": 0,
  "metadata": {
    "colab": {
      "name": "ADL_final_Transformers.ipynb",
      "provenance": [],
      "machine_shape": "hm"
    },
    "kernelspec": {
      "name": "python3",
      "display_name": "Python 3"
    },
    "accelerator": "TPU"
  },
  "cells": [
    {
      "cell_type": "code",
      "metadata": {
        "colab": {
          "base_uri": "https://localhost:8080/"
        },
        "id": "eRMjA_J-kByk",
        "outputId": "ddc54fd1-9b8f-4f37-d84a-4059177d3501"
      },
      "source": [
        "import warnings\r\n",
        "warnings.filterwarnings('ignore')\r\n",
        "\r\n",
        "import pandas as pd\r\n",
        "import numpy as np\r\n",
        "import os\r\n",
        "import datetime\r\n",
        "import tensorflow as tf\r\n",
        "from tensorflow.keras.models import *\r\n",
        "from tensorflow.keras.layers import *\r\n",
        "\r\n",
        "from google.colab import drive\r\n",
        "drive.mount('/content/drive')"
      ],
      "execution_count": 1,
      "outputs": [
        {
          "output_type": "stream",
          "text": [
            "Mounted at /content/drive\n"
          ],
          "name": "stdout"
        }
      ]
    },
    {
      "cell_type": "code",
      "metadata": {
        "colab": {
          "base_uri": "https://localhost:8080/",
          "height": 203
        },
        "id": "brYq1H-Ckcl-",
        "outputId": "b504db17-350b-4291-c33f-f64458e34a76"
      },
      "source": [
        "df = pd.read_csv('/content/drive/MyDrive/ADL final project/data/final_input.csv', index_col = [0])\r\n",
        "df.head()"
      ],
      "execution_count": 2,
      "outputs": [
        {
          "output_type": "execute_result",
          "data": {
            "text/html": [
              "<div>\n",
              "<style scoped>\n",
              "    .dataframe tbody tr th:only-of-type {\n",
              "        vertical-align: middle;\n",
              "    }\n",
              "\n",
              "    .dataframe tbody tr th {\n",
              "        vertical-align: top;\n",
              "    }\n",
              "\n",
              "    .dataframe thead th {\n",
              "        text-align: right;\n",
              "    }\n",
              "</style>\n",
              "<table border=\"1\" class=\"dataframe\">\n",
              "  <thead>\n",
              "    <tr style=\"text-align: right;\">\n",
              "      <th></th>\n",
              "      <th>Open</th>\n",
              "      <th>Close</th>\n",
              "      <th>High</th>\n",
              "      <th>Low</th>\n",
              "      <th>Volume_x</th>\n",
              "      <th>Volume_y</th>\n",
              "      <th>MA</th>\n",
              "      <th>Returns</th>\n",
              "      <th>BBand_upper</th>\n",
              "      <th>BBand_middle</th>\n",
              "      <th>BBand_lower</th>\n",
              "      <th>Average Directional Index</th>\n",
              "      <th>Directional Index</th>\n",
              "      <th>MACD</th>\n",
              "      <th>MACD_signal</th>\n",
              "      <th>MACD hist</th>\n",
              "      <th>stochastic k</th>\n",
              "      <th>stochastic d</th>\n",
              "      <th>movement</th>\n",
              "    </tr>\n",
              "  </thead>\n",
              "  <tbody>\n",
              "    <tr>\n",
              "      <th>0</th>\n",
              "      <td>297.3300</td>\n",
              "      <td>297.325</td>\n",
              "      <td>297.3300</td>\n",
              "      <td>297.3250</td>\n",
              "      <td>0.0225</td>\n",
              "      <td>0.0400</td>\n",
              "      <td>297.035000</td>\n",
              "      <td>0.000388</td>\n",
              "      <td>NaN</td>\n",
              "      <td>NaN</td>\n",
              "      <td>NaN</td>\n",
              "      <td>NaN</td>\n",
              "      <td>NaN</td>\n",
              "      <td>NaN</td>\n",
              "      <td>NaN</td>\n",
              "      <td>NaN</td>\n",
              "      <td>NaN</td>\n",
              "      <td>NaN</td>\n",
              "      <td>1</td>\n",
              "    </tr>\n",
              "    <tr>\n",
              "      <th>1</th>\n",
              "      <td>297.2400</td>\n",
              "      <td>297.165</td>\n",
              "      <td>297.2400</td>\n",
              "      <td>297.1600</td>\n",
              "      <td>0.1050</td>\n",
              "      <td>0.0412</td>\n",
              "      <td>297.132857</td>\n",
              "      <td>0.000329</td>\n",
              "      <td>NaN</td>\n",
              "      <td>NaN</td>\n",
              "      <td>NaN</td>\n",
              "      <td>NaN</td>\n",
              "      <td>NaN</td>\n",
              "      <td>NaN</td>\n",
              "      <td>NaN</td>\n",
              "      <td>NaN</td>\n",
              "      <td>NaN</td>\n",
              "      <td>NaN</td>\n",
              "      <td>1</td>\n",
              "    </tr>\n",
              "    <tr>\n",
              "      <th>2</th>\n",
              "      <td>297.9000</td>\n",
              "      <td>297.660</td>\n",
              "      <td>297.9250</td>\n",
              "      <td>297.5145</td>\n",
              "      <td>3.0150</td>\n",
              "      <td>2.6786</td>\n",
              "      <td>297.265714</td>\n",
              "      <td>0.000447</td>\n",
              "      <td>NaN</td>\n",
              "      <td>NaN</td>\n",
              "      <td>NaN</td>\n",
              "      <td>NaN</td>\n",
              "      <td>NaN</td>\n",
              "      <td>NaN</td>\n",
              "      <td>NaN</td>\n",
              "      <td>NaN</td>\n",
              "      <td>NaN</td>\n",
              "      <td>NaN</td>\n",
              "      <td>1</td>\n",
              "    </tr>\n",
              "    <tr>\n",
              "      <th>3</th>\n",
              "      <td>297.6695</td>\n",
              "      <td>297.785</td>\n",
              "      <td>297.8155</td>\n",
              "      <td>297.5945</td>\n",
              "      <td>3.1800</td>\n",
              "      <td>2.8610</td>\n",
              "      <td>297.403214</td>\n",
              "      <td>0.000462</td>\n",
              "      <td>NaN</td>\n",
              "      <td>NaN</td>\n",
              "      <td>NaN</td>\n",
              "      <td>NaN</td>\n",
              "      <td>NaN</td>\n",
              "      <td>NaN</td>\n",
              "      <td>NaN</td>\n",
              "      <td>NaN</td>\n",
              "      <td>NaN</td>\n",
              "      <td>NaN</td>\n",
              "      <td>1</td>\n",
              "    </tr>\n",
              "    <tr>\n",
              "      <th>4</th>\n",
              "      <td>297.7850</td>\n",
              "      <td>297.815</td>\n",
              "      <td>297.9255</td>\n",
              "      <td>297.6850</td>\n",
              "      <td>3.0375</td>\n",
              "      <td>2.3263</td>\n",
              "      <td>297.468214</td>\n",
              "      <td>0.000219</td>\n",
              "      <td>NaN</td>\n",
              "      <td>NaN</td>\n",
              "      <td>NaN</td>\n",
              "      <td>NaN</td>\n",
              "      <td>NaN</td>\n",
              "      <td>NaN</td>\n",
              "      <td>NaN</td>\n",
              "      <td>NaN</td>\n",
              "      <td>NaN</td>\n",
              "      <td>NaN</td>\n",
              "      <td>1</td>\n",
              "    </tr>\n",
              "  </tbody>\n",
              "</table>\n",
              "</div>"
            ],
            "text/plain": [
              "       Open    Close      High  ...  stochastic k  stochastic d  movement\n",
              "0  297.3300  297.325  297.3300  ...           NaN           NaN         1\n",
              "1  297.2400  297.165  297.2400  ...           NaN           NaN         1\n",
              "2  297.9000  297.660  297.9250  ...           NaN           NaN         1\n",
              "3  297.6695  297.785  297.8155  ...           NaN           NaN         1\n",
              "4  297.7850  297.815  297.9255  ...           NaN           NaN         1\n",
              "\n",
              "[5 rows x 19 columns]"
            ]
          },
          "metadata": {
            "tags": []
          },
          "execution_count": 2
        }
      ]
    },
    {
      "cell_type": "code",
      "metadata": {
        "colab": {
          "base_uri": "https://localhost:8080/"
        },
        "id": "rSjldAHekiDI",
        "outputId": "55230ba9-baa5-4f66-b8e8-d7133328b75f"
      },
      "source": [
        "train_size = int(len(df) * .7)\r\n",
        "df_train =  df.iloc[:train_size]\r\n",
        "df_val = df.iloc[train_size:]\r\n",
        "\r\n",
        "print(len(df_train), len(df_val))"
      ],
      "execution_count": 3,
      "outputs": [
        {
          "output_type": "stream",
          "text": [
            "65218 27951\n"
          ],
          "name": "stdout"
        }
      ]
    },
    {
      "cell_type": "code",
      "metadata": {
        "id": "BfZClw3WkjBD"
      },
      "source": [
        "#Scaling\r\n",
        "from sklearn.preprocessing import MinMaxScaler\r\n",
        "scaler = MinMaxScaler()\r\n",
        "\r\n",
        "feature_columns = ['Open', 'High', 'Low', 'Volume_x', 'Volume_y', 'MA', 'Returns',\r\n",
        "       'BBand_upper', 'BBand_middle', 'BBand_lower', 'Directional Index',\r\n",
        "       'Average Directional Index', 'MACD', 'MACD_signal', 'MACD hist',\r\n",
        "        'stochastic k', 'stochastic d']\r\n",
        "\r\n",
        "\r\n",
        "for feature in feature_columns:\r\n",
        "  df_train[feature] = scaler.fit_transform(df_train[[feature]].values)\r\n",
        "  df_val[feature] = scaler.transform(df_val[[feature]])\r\n",
        "\r\n"
      ],
      "execution_count": 4,
      "outputs": []
    },
    {
      "cell_type": "code",
      "metadata": {
        "colab": {
          "base_uri": "https://localhost:8080/"
        },
        "id": "XxNGed4Ikjpw",
        "outputId": "b413b353-8743-487c-c668-1a1e2d8994ce"
      },
      "source": [
        "from tensorflow.keras.utils import to_categorical\r\n",
        "\r\n",
        "Y_train = df_train['movement']\r\n",
        "Y_val = df_val['movement']\r\n",
        "\r\n",
        "print(len(Y_train[Y_train == 1]), len(Y_train[Y_train == 0]))\r\n",
        "print(len(Y_val[Y_val == 1]), len(Y_val[Y_val == 0]))\r\n",
        "\r\n",
        "Y_train = to_categorical(Y_train, 2)\r\n",
        "Y_val = to_categorical(Y_val, 2)"
      ],
      "execution_count": 5,
      "outputs": [
        {
          "output_type": "stream",
          "text": [
            "34209 31009\n",
            "14165 13786\n"
          ],
          "name": "stdout"
        }
      ]
    },
    {
      "cell_type": "code",
      "metadata": {
        "id": "Hrt0htO2kkcI"
      },
      "source": [
        "def convert_raw_samples_to_model_samples(scd_log_rtns, movements, window_size):\r\n",
        "    X, y = [], []\r\n",
        "    len_log_rtns = len(scd_log_rtns)\r\n",
        "    for i in range(window_size, len_log_rtns):\r\n",
        "        X.append(scd_log_rtns[i-window_size:i])\r\n",
        "        y.append(movements[i])\r\n",
        "    X, y = np.asarray(X), np.asarray(y)\r\n",
        "    #X = np.reshape(X, (X.shape[0], X.shape[1], 1))\r\n",
        "    return X, y\r\n"
      ],
      "execution_count": 6,
      "outputs": []
    },
    {
      "cell_type": "code",
      "metadata": {
        "id": "EifaqFOQkled"
      },
      "source": [
        "df_train = df_train.dropna()\r\n",
        "df_train.index = np.arange(0,len(df_train))\r\n",
        "df_val.index = np.arange(0,len(df_val))\r\n",
        "\r\n",
        "df_train = df_train[feature_columns]\r\n",
        "df_val  = df_val[feature_columns]"
      ],
      "execution_count": 7,
      "outputs": []
    },
    {
      "cell_type": "code",
      "metadata": {
        "id": "RtHrEsD2kmAL"
      },
      "source": [
        "#Different Window for transformers due to the lack of memory\r\n",
        "window_size = 64\r\n",
        "X_train, y_train = convert_raw_samples_to_model_samples(df_train, Y_train, window_size)\r\n",
        "X_val, y_val = convert_raw_samples_to_model_samples(df_val, Y_val, window_size)"
      ],
      "execution_count": 8,
      "outputs": []
    },
    {
      "cell_type": "markdown",
      "metadata": {
        "id": "JN5rcvbCkta0"
      },
      "source": [
        "## Embedding"
      ]
    },
    {
      "cell_type": "code",
      "metadata": {
        "id": "dACQT4Veks1G"
      },
      "source": [
        "class Time2Vector(Layer):\r\n",
        "  def __init__(self, seq_len, **kwargs):\r\n",
        "    super(Time2Vector, self).__init__()\r\n",
        "    self.seq_len = seq_len\r\n",
        "\r\n",
        "  def build(self, input_shape):\r\n",
        "    '''Initialize weights and biases with shape (batch, seq_len)'''\r\n",
        "    self.weights_linear = self.add_weight(name='weight_linear',\r\n",
        "                                shape=(int(self.seq_len),),\r\n",
        "                                initializer='uniform',\r\n",
        "                                trainable=True)\r\n",
        "    \r\n",
        "    self.bias_linear = self.add_weight(name='bias_linear',\r\n",
        "                                shape=(int(self.seq_len),),\r\n",
        "                                initializer='uniform',\r\n",
        "                                trainable=True)\r\n",
        "    \r\n",
        "    self.weights_periodic = self.add_weight(name='weight_periodic',\r\n",
        "                                shape=(int(self.seq_len),),\r\n",
        "                                initializer='uniform',\r\n",
        "                                trainable=True)\r\n",
        "\r\n",
        "    self.bias_periodic = self.add_weight(name='bias_periodic',\r\n",
        "                                shape=(int(self.seq_len),),\r\n",
        "                                initializer='uniform',\r\n",
        "                                trainable=True)\r\n",
        "\r\n",
        "  def call(self, x):\r\n",
        "    '''Calculate linear and periodic time features'''\r\n",
        "    x = tf.math.reduce_mean(x[:,:,:4], axis=-1) \r\n",
        "    time_linear = self.weights_linear * x + self.bias_linear # Linear time feature\r\n",
        "    time_linear = tf.expand_dims(time_linear, axis=-1) # Add dimension (batch, seq_len, 1)\r\n",
        "    \r\n",
        "    time_periodic = tf.math.sin(tf.multiply(x, self.weights_periodic) + self.bias_periodic)\r\n",
        "    time_periodic = tf.expand_dims(time_periodic, axis=-1) # Add dimension (batch, seq_len, 1)\r\n",
        "    return tf.concat([time_linear, time_periodic], axis=-1) # shape = (batch, seq_len, 2)\r\n",
        "   \r\n",
        "  def get_config(self): # Needed for saving and loading model with custom layer\r\n",
        "    config = super().get_config().copy()\r\n",
        "    config.update({'seq_len': self.seq_len})\r\n",
        "    return config"
      ],
      "execution_count": 9,
      "outputs": []
    },
    {
      "cell_type": "code",
      "metadata": {
        "id": "j07fA4m_kxBN"
      },
      "source": [
        "from keras import backend as K\r\n",
        "\r\n",
        "def recall_m(y_true, y_pred):\r\n",
        "    true_positives = K.sum(K.round(K.clip(y_true * y_pred, 0, 1)))\r\n",
        "    possible_positives = K.sum(K.round(K.clip(y_true, 0, 1)))\r\n",
        "    recall = true_positives / (possible_positives + K.epsilon())\r\n",
        "    return recall\r\n",
        "\r\n",
        "def precision_m(y_true, y_pred):\r\n",
        "    true_positives = K.sum(K.round(K.clip(y_true * y_pred, 0, 1)))\r\n",
        "    predicted_positives = K.sum(K.round(K.clip(y_pred, 0, 1)))\r\n",
        "    precision = true_positives / (predicted_positives + K.epsilon())\r\n",
        "    return precision\r\n",
        "\r\n",
        "def f1_m(y_true, y_pred):\r\n",
        "    precision = precision_m(y_true, y_pred)\r\n",
        "    recall = recall_m(y_true, y_pred)\r\n",
        "    return 2*((precision*recall)/(precision+recall+K.epsilon()))\r\n"
      ],
      "execution_count": 10,
      "outputs": []
    },
    {
      "cell_type": "code",
      "metadata": {
        "id": "mR0h77i9kxP1"
      },
      "source": [
        "# -*- coding: utf-8 -*-\r\n",
        "\"\"\"Confusion matrix.ipynb\r\n",
        "\r\n",
        "Automatically generated by Colaboratory.\r\n",
        "\r\n",
        "Original file is located at\r\n",
        "    https://colab.research.google.com/drive/1dbeSXmnx5b6mUMXXYMlYVw-V20-fDdPc\r\n",
        "\"\"\"\r\n",
        "\r\n",
        "def plot_confusion_matrix(cm,\r\n",
        "                          target_names,\r\n",
        "                          title='Confusion matrix',\r\n",
        "                          cmap=None,\r\n",
        "                          normalize=True):\r\n",
        "    \"\"\"\r\n",
        "    given a sklearn confusion matrix (cm), make a nice plot\r\n",
        "\r\n",
        "    Arguments\r\n",
        "    ---------\r\n",
        "    cm:           confusion matrix from sklearn.metrics.confusion_matrix\r\n",
        "\r\n",
        "    target_names: given classification classes such as [0, 1, 2]\r\n",
        "                  the class names, for example: ['high', 'medium', 'low']\r\n",
        "\r\n",
        "    title:        the text to display at the top of the matrix\r\n",
        "\r\n",
        "    cmap:         the gradient of the values displayed from matplotlib.pyplot.cm\r\n",
        "                  see http://matplotlib.org/examples/color/colormaps_reference.html\r\n",
        "                  plt.get_cmap('jet') or plt.cm.Blues\r\n",
        "\r\n",
        "    normalize:    If False, plot the raw numbers\r\n",
        "                  If True, plot the proportions\r\n",
        "\r\n",
        "    Usage\r\n",
        "    -----\r\n",
        "    plot_confusion_matrix(cm           = cm,                  # confusion matrix created by\r\n",
        "                                                              # sklearn.metrics.confusion_matrix\r\n",
        "                          normalize    = True,                # show proportions\r\n",
        "                          target_names = y_labels_vals,       # list of names of the classes\r\n",
        "                          title        = best_estimator_name) # title of graph\r\n",
        "\r\n",
        "    Citiation\r\n",
        "    ---------\r\n",
        "    http://scikit-learn.org/stable/auto_examples/model_selection/plot_confusion_matrix.html\r\n",
        "\r\n",
        "    \"\"\"\r\n",
        "    import matplotlib.pyplot as plt\r\n",
        "    import numpy as np\r\n",
        "    import itertools\r\n",
        "\r\n",
        "    accuracy = np.trace(cm) / np.sum(cm).astype('float')\r\n",
        "    misclass = 1 - accuracy\r\n",
        "\r\n",
        "    if cmap is None:\r\n",
        "        cmap = plt.get_cmap('Blues')\r\n",
        "\r\n",
        "    plt.figure(figsize=(8, 6))\r\n",
        "    plt.imshow(cm, interpolation='nearest', cmap=cmap)\r\n",
        "    plt.title(title)\r\n",
        "    plt.colorbar()\r\n",
        "\r\n",
        "    if target_names is not None:\r\n",
        "        tick_marks = np.arange(len(target_names))\r\n",
        "        plt.xticks(tick_marks, target_names, rotation=45)\r\n",
        "        plt.yticks(tick_marks, target_names)\r\n",
        "\r\n",
        "    if normalize:\r\n",
        "        cm = cm.astype('float') / cm.sum(axis=1)[:, np.newaxis]\r\n",
        "\r\n",
        "\r\n",
        "    thresh = cm.max() / 1.5 if normalize else cm.max() / 2\r\n",
        "    for i, j in itertools.product(range(cm.shape[0]), range(cm.shape[1])):\r\n",
        "        if normalize:\r\n",
        "            plt.text(j, i, \"{:0.4f}\".format(cm[i, j]),\r\n",
        "                     horizontalalignment=\"center\",\r\n",
        "                     color=\"white\" if cm[i, j] > thresh else \"black\")\r\n",
        "        else:\r\n",
        "            plt.text(j, i, \"{:,}\".format(cm[i, j]),\r\n",
        "                     horizontalalignment=\"center\",\r\n",
        "                     color=\"white\" if cm[i, j] > thresh else \"black\")\r\n",
        "\r\n",
        "\r\n",
        "    plt.tight_layout()\r\n",
        "    plt.ylabel('True label')\r\n",
        "    plt.xlabel('Predicted label\\naccuracy={:0.4f}; misclass={:0.4f}'.format(accuracy, misclass))\r\n",
        "    plt.show()"
      ],
      "execution_count": 11,
      "outputs": []
    },
    {
      "cell_type": "markdown",
      "metadata": {
        "id": "ni5A59Pkkyqs"
      },
      "source": [
        "##Model"
      ]
    },
    {
      "cell_type": "code",
      "metadata": {
        "id": "3ggWaexekx-V"
      },
      "source": [
        "class SingleAttention(Layer):\r\n",
        "  def __init__(self, d_k, d_v):\r\n",
        "    super(SingleAttention, self).__init__()\r\n",
        "    self.d_k = d_k\r\n",
        "    self.d_v = d_v\r\n",
        "\r\n",
        "  def build(self, input_shape):\r\n",
        "    self.query = Dense(self.d_k, \r\n",
        "                       input_shape=input_shape, \r\n",
        "                       kernel_initializer='glorot_uniform', \r\n",
        "                       bias_initializer='glorot_uniform')\r\n",
        "    \r\n",
        "    self.key = Dense(self.d_k, \r\n",
        "                     input_shape=input_shape, \r\n",
        "                     kernel_initializer='glorot_uniform', \r\n",
        "                     bias_initializer='glorot_uniform')\r\n",
        "    \r\n",
        "    self.value = Dense(self.d_v, \r\n",
        "                       input_shape=input_shape, \r\n",
        "                       kernel_initializer='glorot_uniform', \r\n",
        "                       bias_initializer='glorot_uniform')\r\n",
        "\r\n",
        "  def call(self, inputs): # inputs = (in_seq, in_seq, in_seq)\r\n",
        "    q = self.query(inputs[0])\r\n",
        "    k = self.key(inputs[1])\r\n",
        "\r\n",
        "    attn_weights = tf.matmul(q, k, transpose_b=True)\r\n",
        "    attn_weights = tf.map_fn(lambda x: x/np.sqrt(self.d_k), attn_weights)\r\n",
        "    attn_weights = tf.nn.softmax(attn_weights, axis=-1)\r\n",
        "    \r\n",
        "    v = self.value(inputs[2])\r\n",
        "    attn_out = tf.matmul(attn_weights, v)\r\n",
        "    return attn_out    \r\n",
        "\r\n",
        "#############################################################################\r\n",
        "\r\n",
        "class MultiAttention(Layer):\r\n",
        "  def __init__(self, d_k, d_v, n_heads):\r\n",
        "    super(MultiAttention, self).__init__()\r\n",
        "    self.d_k = d_k\r\n",
        "    self.d_v = d_v\r\n",
        "    self.n_heads = n_heads\r\n",
        "    self.attn_heads = list()\r\n",
        "\r\n",
        "  def build(self, input_shape):\r\n",
        "    for n in range(self.n_heads):\r\n",
        "      self.attn_heads.append(SingleAttention(self.d_k, self.d_v))  \r\n",
        "    \r\n",
        "    # input_shape[0]=(batch, seq_len, 7), input_shape[0][-1]=7 \r\n",
        "    self.linear = Dense(input_shape[0][-1], \r\n",
        "                        input_shape=input_shape, \r\n",
        "                        kernel_initializer='glorot_uniform', \r\n",
        "                        bias_initializer='glorot_uniform')\r\n",
        "\r\n",
        "  def call(self, inputs):\r\n",
        "    attn = [self.attn_heads[i](inputs) for i in range(self.n_heads)]\r\n",
        "    concat_attn = tf.concat(attn, axis=-1)\r\n",
        "    multi_linear = self.linear(concat_attn)\r\n",
        "    return multi_linear   \r\n",
        "\r\n",
        "#############################################################################\r\n",
        "\r\n",
        "class TransformerEncoder(Layer):\r\n",
        "  def __init__(self, d_k, d_v, n_heads, ff_dim, dropout=0.1, **kwargs):\r\n",
        "    super(TransformerEncoder, self).__init__()\r\n",
        "    self.d_k = d_k\r\n",
        "    self.d_v = d_v\r\n",
        "    self.n_heads = n_heads\r\n",
        "    self.ff_dim = ff_dim\r\n",
        "    self.attn_heads = list()\r\n",
        "    self.dropout_rate = dropout\r\n",
        "\r\n",
        "  def build(self, input_shape):\r\n",
        "    self.attn_multi = MultiAttention(self.d_k, self.d_v, self.n_heads)\r\n",
        "    self.attn_dropout = Dropout(self.dropout_rate)\r\n",
        "    self.attn_normalize = LayerNormalization(input_shape=input_shape, epsilon=1e-6)\r\n",
        "\r\n",
        "    self.ff_conv1D_1 = Conv1D(filters=self.ff_dim, kernel_size=1, activation='relu')\r\n",
        "    # input_shape[0]=(batch, seq_len, 7), input_shape[0][-1] = 7 \r\n",
        "    self.ff_conv1D_2 = Conv1D(filters=input_shape[0][-1], kernel_size=1) \r\n",
        "    self.ff_dropout = Dropout(self.dropout_rate)\r\n",
        "    self.ff_normalize = LayerNormalization(input_shape=input_shape, epsilon=1e-6)    \r\n",
        "  \r\n",
        "  def call(self, inputs): # inputs = (in_seq, in_seq, in_seq)\r\n",
        "    attn_layer = self.attn_multi(inputs)\r\n",
        "    attn_layer = self.attn_dropout(attn_layer)\r\n",
        "    attn_layer = self.attn_normalize(inputs[0] + attn_layer)\r\n",
        "\r\n",
        "    ff_layer = self.ff_conv1D_1(attn_layer)\r\n",
        "    ff_layer = self.ff_conv1D_2(ff_layer)\r\n",
        "    ff_layer = self.ff_dropout(ff_layer)\r\n",
        "    ff_layer = self.ff_normalize(inputs[0] + ff_layer)\r\n",
        "    return ff_layer \r\n",
        "\r\n",
        "  def get_config(self): # Needed for saving and loading model with custom layer\r\n",
        "    config = super().get_config().copy()\r\n",
        "    config.update({'d_k': self.d_k,\r\n",
        "                   'd_v': self.d_v,\r\n",
        "                   'n_heads': self.n_heads,\r\n",
        "                   'ff_dim': self.ff_dim,\r\n",
        "                   'attn_heads': self.attn_heads,\r\n",
        "                   'dropout_rate': self.dropout_rate})\r\n",
        "    return config"
      ],
      "execution_count": 12,
      "outputs": []
    },
    {
      "cell_type": "code",
      "metadata": {
        "id": "mAE9h4eBk1Yy"
      },
      "source": [
        "def create_transformers(X, embedding, classification):\r\n",
        "  \r\n",
        "  d_k = 256\r\n",
        "  d_v = 256\r\n",
        "  n_heads = 12\r\n",
        "  ff_dim = 256\r\n",
        "\r\n",
        "  input_seq = Input(shape = (X.shape[1], X.shape[2]))\r\n",
        "\r\n",
        "  attn_layer1 = TransformerEncoder(d_k, d_v, n_heads, ff_dim)\r\n",
        "  attn_layer2 = TransformerEncoder(d_k, d_v, n_heads, ff_dim)\r\n",
        "  attn_layer3 = TransformerEncoder(d_k, d_v, n_heads, ff_dim)\r\n",
        "\r\n",
        "  if embedding:\r\n",
        "    time_embedding = Time2Vector(X.shape[1])\r\n",
        "    x = time_embedding(input_seq)\r\n",
        "    x = Concatenate(axis=-1)([input_seq, x])\r\n",
        "    x = attn_layer1((x,x,x))\r\n",
        "  else:\r\n",
        "    x = attn_layer1((input_seq, input_seq, input_seq))\r\n",
        "  \r\n",
        "  x = attn_layer2((x,x,x))\r\n",
        "  x = attn_layer3((x,x,x))\r\n",
        "  x = GlobalAveragePooling1D(data_format='channels_first')(x)\r\n",
        "  x = Dropout(0.1)(x)\r\n",
        "  x = Dense(64, activation='relu')(x)\r\n",
        "  x = Dropout(0.1)(x)\r\n",
        "\r\n",
        "  if classification:\r\n",
        "    out = Dense(2, activation=\"softmax\", name=\"output\")(x)\r\n",
        "    model = Model(inputs = input_seq, outputs = out)\r\n",
        "    model.compile(loss = 'categorical_crossentropy', optimizer = tf.keras.optimizers.Adam(1e-5), metrics = ['accuracy'])\r\n",
        "  else:\r\n",
        "    out = Dense(1)(x)\r\n",
        "    model = Model(inputs = input_seq, outputs = out)\r\n",
        "    model.compile(loss = 'mse', optimizer = 'Adam', metrics = ['mae', 'mape'])\r\n",
        "  \r\n",
        "  return model\r\n"
      ],
      "execution_count": 13,
      "outputs": []
    },
    {
      "cell_type": "code",
      "metadata": {
        "colab": {
          "base_uri": "https://localhost:8080/"
        },
        "id": "19k7-Fnjk2Is",
        "outputId": "49d45a4f-2f85-4d81-d4b8-9e8c3aa2609c"
      },
      "source": [
        "#With Time Embedding\r\n",
        "model = create_transformers(X_train, True, True)\r\n",
        "model.summary()"
      ],
      "execution_count": 14,
      "outputs": [
        {
          "output_type": "stream",
          "text": [
            "Model: \"model\"\n",
            "__________________________________________________________________________________________________\n",
            "Layer (type)                    Output Shape         Param #     Connected to                     \n",
            "==================================================================================================\n",
            "input_1 (InputLayer)            [(None, 64, 17)]     0                                            \n",
            "__________________________________________________________________________________________________\n",
            "time2_vector (Time2Vector)      (None, 64, 2)        256         input_1[0][0]                    \n",
            "__________________________________________________________________________________________________\n",
            "concatenate (Concatenate)       (None, 64, 19)       0           input_1[0][0]                    \n",
            "                                                                 time2_vector[0][0]               \n",
            "__________________________________________________________________________________________________\n",
            "transformer_encoder (Transforme (None, 64, 19)       252786      concatenate[0][0]                \n",
            "                                                                 concatenate[0][0]                \n",
            "                                                                 concatenate[0][0]                \n",
            "__________________________________________________________________________________________________\n",
            "transformer_encoder_1 (Transfor (None, 64, 19)       252786      transformer_encoder[0][0]        \n",
            "                                                                 transformer_encoder[0][0]        \n",
            "                                                                 transformer_encoder[0][0]        \n",
            "__________________________________________________________________________________________________\n",
            "transformer_encoder_2 (Transfor (None, 64, 19)       252786      transformer_encoder_1[0][0]      \n",
            "                                                                 transformer_encoder_1[0][0]      \n",
            "                                                                 transformer_encoder_1[0][0]      \n",
            "__________________________________________________________________________________________________\n",
            "global_average_pooling1d (Globa (None, 64)           0           transformer_encoder_2[0][0]      \n",
            "__________________________________________________________________________________________________\n",
            "dropout (Dropout)               (None, 64)           0           global_average_pooling1d[0][0]   \n",
            "__________________________________________________________________________________________________\n",
            "dense (Dense)                   (None, 64)           4160        dropout[0][0]                    \n",
            "__________________________________________________________________________________________________\n",
            "dropout_1 (Dropout)             (None, 64)           0           dense[0][0]                      \n",
            "__________________________________________________________________________________________________\n",
            "output (Dense)                  (None, 2)            130         dropout_1[0][0]                  \n",
            "==================================================================================================\n",
            "Total params: 762,904\n",
            "Trainable params: 762,904\n",
            "Non-trainable params: 0\n",
            "__________________________________________________________________________________________________\n"
          ],
          "name": "stdout"
        }
      ]
    },
    {
      "cell_type": "code",
      "metadata": {
        "colab": {
          "base_uri": "https://localhost:8080/"
        },
        "id": "Het6Q5dHlJOe",
        "outputId": "e6b49fc8-3a84-42c6-dc91-2a0e705b6505"
      },
      "source": [
        "history = model.fit(X_train, y_train,epochs=5,  validation_data=(X_val, y_val))"
      ],
      "execution_count": 15,
      "outputs": [
        {
          "output_type": "stream",
          "text": [
            "Epoch 1/5\n",
            "2036/2036 [==============================] - 729s 347ms/step - loss: 0.6899 - accuracy: 0.6083 - val_loss: 0.6805 - val_accuracy: 0.5810\n",
            "Epoch 2/5\n",
            "2036/2036 [==============================] - 718s 353ms/step - loss: 0.6493 - accuracy: 0.6771 - val_loss: 0.6944 - val_accuracy: 0.5620\n",
            "Epoch 3/5\n",
            "2036/2036 [==============================] - 713s 350ms/step - loss: 0.5877 - accuracy: 0.7210 - val_loss: 0.8290 - val_accuracy: 0.5334\n",
            "Epoch 4/5\n",
            "2036/2036 [==============================] - 686s 337ms/step - loss: 0.4215 - accuracy: 0.8274 - val_loss: 0.9617 - val_accuracy: 0.5249\n",
            "Epoch 5/5\n",
            "2036/2036 [==============================] - 737s 362ms/step - loss: 0.3422 - accuracy: 0.8575 - val_loss: 1.0708 - val_accuracy: 0.5253\n"
          ],
          "name": "stdout"
        }
      ]
    },
    {
      "cell_type": "code",
      "metadata": {
        "colab": {
          "base_uri": "https://localhost:8080/"
        },
        "id": "bRgtYhY9lLtM",
        "outputId": "9902552e-af38-497c-dcee-2d876aca1406"
      },
      "source": [
        "y_pred = model.predict(X_val)\r\n",
        "y_pred = [y_pred[i].argmax() for i in range(len(y_pred))]\r\n",
        "print(set(y_pred))\r\n",
        "\r\n",
        "num =[0,0]\r\n",
        "for i in range(len(y_pred)):\r\n",
        "  num[y_pred[i]] += 1 \r\n",
        "\r\n",
        "print(num)\r\n",
        "\r\n",
        "y_true =  [y_val[i].argmax() for i in range(len(y_val))]\r\n",
        "num =[0,0]\r\n",
        "for i in range(len(y_true)):\r\n",
        "  num[y_true[i]] += 1 \r\n",
        "print(num)"
      ],
      "execution_count": 19,
      "outputs": [
        {
          "output_type": "stream",
          "text": [
            "{0, 1}\n",
            "[13640, 14247]\n",
            "[13753, 14134]\n"
          ],
          "name": "stdout"
        }
      ]
    },
    {
      "cell_type": "code",
      "metadata": {
        "colab": {
          "base_uri": "https://localhost:8080/"
        },
        "id": "uv_4yoRhlMjB",
        "outputId": "0b4dd0af-93df-459d-f849-4b7fa7b2ef21"
      },
      "source": [
        "from sklearn.metrics import classification_report\r\n",
        "\r\n",
        "print(classification_report(y_true, y_pred))"
      ],
      "execution_count": 20,
      "outputs": [
        {
          "output_type": "stream",
          "text": [
            "              precision    recall  f1-score   support\n",
            "\n",
            "           0       0.52      0.51      0.52     13753\n",
            "           1       0.53      0.54      0.53     14134\n",
            "\n",
            "    accuracy                           0.53     27887\n",
            "   macro avg       0.53      0.53      0.53     27887\n",
            "weighted avg       0.53      0.53      0.53     27887\n",
            "\n"
          ],
          "name": "stdout"
        }
      ]
    },
    {
      "cell_type": "code",
      "metadata": {
        "colab": {
          "base_uri": "https://localhost:8080/",
          "height": 467
        },
        "id": "qFJAe9M0lOqm",
        "outputId": "b45bb17b-7e53-432b-c38d-543c47b99e1c"
      },
      "source": [
        "from sklearn.metrics import confusion_matrix\r\n",
        "\r\n",
        "cm = confusion_matrix(y_true, y_pred)\r\n",
        "plot_confusion_matrix(cm,\r\n",
        "                      ['upward','downward'],\r\n",
        "                      title='Confusion matrix',\r\n",
        "                      cmap=None,\r\n",
        "                      normalize=True)"
      ],
      "execution_count": 21,
      "outputs": [
        {
          "output_type": "display_data",
          "data": {
            "image/png": "[encoded data removed]",
            "text/plain": [
              "<Figure size 576x432 with 2 Axes>"
            ]
          },
          "metadata": {
            "tags": [],
            "needs_background": "light"
          }
        }
      ]
    }
  ]
}